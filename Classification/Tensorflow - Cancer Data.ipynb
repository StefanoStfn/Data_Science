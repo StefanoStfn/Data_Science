{
 "cells": [
  {
   "cell_type": "markdown",
   "id": "345edc85",
   "metadata": {},
   "source": [
    "This script tries to classify Cancer desease state in binary way. The used dataset is the one below:\n",
    "\n",
    "https://www.kaggle.com/datasets/erdemtaha/cancer-data\n",
    "\n",
    "An accuracy of 98.8% is reached using Convolution and Fully Conected layers"
   ]
  },
  {
   "cell_type": "code",
   "execution_count": 1,
   "id": "a52e5af6",
   "metadata": {
    "_cell_guid": "b1076dfc-b9ad-4769-8c92-a6c4dae69d19",
    "_uuid": "8f2839f25d086af736a60e9eeb907d3b93b6e0e5",
    "execution": {
     "iopub.execute_input": "2023-04-27T22:09:53.281766Z",
     "iopub.status.busy": "2023-04-27T22:09:53.280790Z",
     "iopub.status.idle": "2023-04-27T22:10:02.748769Z",
     "shell.execute_reply": "2023-04-27T22:10:02.746737Z"
    },
    "papermill": {
     "duration": 9.479009,
     "end_time": "2023-04-27T22:10:02.752467",
     "exception": false,
     "start_time": "2023-04-27T22:09:53.273458",
     "status": "completed"
    },
    "tags": []
   },
   "outputs": [],
   "source": [
    "import tensorflow as tf\n",
    "import numpy as np\n",
    "from tensorflow import keras\n",
    "from keras import backend as K\n",
    "from tensorflow.keras.layers import Layer\n",
    "import matplotlib.pyplot as plt"
   ]
  },
  {
   "cell_type": "code",
   "execution_count": 2,
   "id": "3d1a67d0",
   "metadata": {
    "execution": {
     "iopub.execute_input": "2023-04-27T22:10:02.763543Z",
     "iopub.status.busy": "2023-04-27T22:10:02.762606Z",
     "iopub.status.idle": "2023-04-27T22:10:02.807823Z",
     "shell.execute_reply": "2023-04-27T22:10:02.806427Z"
    },
    "papermill": {
     "duration": 0.054371,
     "end_time": "2023-04-27T22:10:02.811235",
     "exception": false,
     "start_time": "2023-04-27T22:10:02.756864",
     "status": "completed"
    },
    "tags": []
   },
   "outputs": [],
   "source": [
    "import csv\n",
    "cancer_feature = []\n",
    "labels = []\n",
    "with open('/kaggle/input/cancer-data/Cancer_Data.csv', 'r') as csvfile:\n",
    "  reader = csv.reader(csvfile, delimiter=',')\n",
    "  next(reader)\n",
    "  for row in reader:\n",
    "    cancer_feature.append(row[2:])\n",
    "    labels.append(row[1])\n",
    "labels = [1.0 if item=='M' else 0.0 for item in labels ]"
   ]
  },
  {
   "cell_type": "code",
   "execution_count": 3,
   "id": "ac7d37d3",
   "metadata": {
    "execution": {
     "iopub.execute_input": "2023-04-27T22:10:02.821258Z",
     "iopub.status.busy": "2023-04-27T22:10:02.820817Z",
     "iopub.status.idle": "2023-04-27T22:10:02.842794Z",
     "shell.execute_reply": "2023-04-27T22:10:02.841469Z"
    },
    "papermill": {
     "duration": 0.030288,
     "end_time": "2023-04-27T22:10:02.845735",
     "exception": false,
     "start_time": "2023-04-27T22:10:02.815447",
     "status": "completed"
    },
    "tags": []
   },
   "outputs": [],
   "source": [
    "#convert list to array\n",
    "cancer_feature = np.array(cancer_feature).astype(np.float64)\n",
    "labels = np.array(labels)\n",
    "\n",
    "max_values = []\n",
    "for index in range(30):\n",
    "  max_values.append(cancer_feature[:, index].max())\n",
    "\n",
    "#Normalize features\n",
    "max_values = [1.0 if item <= 1.0 else item for item in max_values]\n",
    "cancer_feature = np.array([cancer_feature[index]/max_values for index in range(labels.shape[0])])\n"
   ]
  },
  {
   "cell_type": "code",
   "execution_count": 4,
   "id": "f8d07613",
   "metadata": {
    "execution": {
     "iopub.execute_input": "2023-04-27T22:10:02.856081Z",
     "iopub.status.busy": "2023-04-27T22:10:02.855672Z",
     "iopub.status.idle": "2023-04-27T22:10:02.862886Z",
     "shell.execute_reply": "2023-04-27T22:10:02.861576Z"
    },
    "papermill": {
     "duration": 0.015458,
     "end_time": "2023-04-27T22:10:02.865467",
     "exception": false,
     "start_time": "2023-04-27T22:10:02.850009",
     "status": "completed"
    },
    "tags": []
   },
   "outputs": [],
   "source": [
    "#split into training and validation sets, 70%, 30%\n",
    "total_length = labels.shape[0]\n",
    "split_ratio = 0.7\n",
    "x_train, y_train = cancer_feature[0:int(split_ratio*total_length)], labels[0:int(split_ratio*total_length)]\n",
    "x_test, y_test = cancer_feature[int(split_ratio*total_length):], labels[int(split_ratio*total_length):]"
   ]
  },
  {
   "cell_type": "code",
   "execution_count": 5,
   "id": "67f2e7be",
   "metadata": {
    "execution": {
     "iopub.execute_input": "2023-04-27T22:10:02.876295Z",
     "iopub.status.busy": "2023-04-27T22:10:02.875183Z",
     "iopub.status.idle": "2023-04-27T22:10:02.884558Z",
     "shell.execute_reply": "2023-04-27T22:10:02.882828Z"
    },
    "papermill": {
     "duration": 0.018352,
     "end_time": "2023-04-27T22:10:02.887867",
     "exception": false,
     "start_time": "2023-04-27T22:10:02.869515",
     "status": "completed"
    },
    "tags": []
   },
   "outputs": [
    {
     "name": "stdout",
     "output_type": "stream",
     "text": [
      "(398, 30, 1)\n",
      "(171, 30, 1)\n",
      "569\n"
     ]
    }
   ],
   "source": [
    "#Prepare input shape for Conv1D input layer\n",
    "x_train = x_train.reshape(-1, 30, 1)\n",
    "x_test = x_test.reshape(-1, 30, 1)\n",
    "#check\n",
    "print(x_train.shape)\n",
    "print(x_test.shape)\n",
    "print(x_train.shape[0] + x_test.shape[0])"
   ]
  },
  {
   "cell_type": "code",
   "execution_count": 6,
   "id": "d075758e",
   "metadata": {
    "execution": {
     "iopub.execute_input": "2023-04-27T22:10:02.898306Z",
     "iopub.status.busy": "2023-04-27T22:10:02.897850Z",
     "iopub.status.idle": "2023-04-27T22:10:02.905638Z",
     "shell.execute_reply": "2023-04-27T22:10:02.904356Z"
    },
    "papermill": {
     "duration": 0.016184,
     "end_time": "2023-04-27T22:10:02.908349",
     "exception": false,
     "start_time": "2023-04-27T22:10:02.892165",
     "status": "completed"
    },
    "tags": []
   },
   "outputs": [],
   "source": [
    "#define callback for early stop\n",
    "class MyCallback(tf.keras.callbacks.Callback):\n",
    "  def on_epoch_end(self, epoch, logs={}):\n",
    "    if logs.get('accuracy') is not None and logs.get('accuracy') >= 0.982 and logs.get('val_accuracy') >= 0.982:                 \n",
    "      print(\"\\nReached wanted accuracy so cancelling training!\")\n",
    "      \n",
    "      self.model.stop_training = True\n",
    "\n",
    "callbacks = MyCallback()"
   ]
  },
  {
   "cell_type": "code",
   "execution_count": 7,
   "id": "d21757f9",
   "metadata": {
    "execution": {
     "iopub.execute_input": "2023-04-27T22:10:02.918740Z",
     "iopub.status.busy": "2023-04-27T22:10:02.917729Z",
     "iopub.status.idle": "2023-04-27T22:10:03.056845Z",
     "shell.execute_reply": "2023-04-27T22:10:03.055646Z"
    },
    "papermill": {
     "duration": 0.147618,
     "end_time": "2023-04-27T22:10:03.059982",
     "exception": false,
     "start_time": "2023-04-27T22:10:02.912364",
     "status": "completed"
    },
    "tags": []
   },
   "outputs": [],
   "source": [
    "#Model definition\n",
    "\n",
    "model2 = tf.keras.Sequential([\n",
    "    tf.keras.layers.Conv1D(64, 3),\n",
    "    tf.keras.layers.Flatten(),\n",
    "    tf.keras.layers.Dense(128, activation='relu'),\n",
    "    tf.keras.layers.Dense(64, activation='relu'),\n",
    "    tf.keras.layers.Dense(1, activation= 'sigmoid')\n",
    "])"
   ]
  },
  {
   "cell_type": "code",
   "execution_count": 8,
   "id": "cf7614dc",
   "metadata": {
    "execution": {
     "iopub.execute_input": "2023-04-27T22:10:03.070638Z",
     "iopub.status.busy": "2023-04-27T22:10:03.070174Z",
     "iopub.status.idle": "2023-04-27T22:10:03.104711Z",
     "shell.execute_reply": "2023-04-27T22:10:03.103354Z"
    },
    "papermill": {
     "duration": 0.043781,
     "end_time": "2023-04-27T22:10:03.107988",
     "exception": false,
     "start_time": "2023-04-27T22:10:03.064207",
     "status": "completed"
    },
    "tags": []
   },
   "outputs": [],
   "source": [
    "model2.compile(\n",
    "    optimizer=tf.keras.optimizers.Adam(learning_rate=7e-5),\n",
    "    loss='binary_crossentropy',\n",
    "    metrics=['accuracy']\n",
    ")"
   ]
  },
  {
   "cell_type": "code",
   "execution_count": 9,
   "id": "7b01b221",
   "metadata": {
    "execution": {
     "iopub.execute_input": "2023-04-27T22:10:03.119239Z",
     "iopub.status.busy": "2023-04-27T22:10:03.117927Z",
     "iopub.status.idle": "2023-04-27T22:10:29.900852Z",
     "shell.execute_reply": "2023-04-27T22:10:29.899420Z"
    },
    "papermill": {
     "duration": 26.791734,
     "end_time": "2023-04-27T22:10:29.904056",
     "exception": false,
     "start_time": "2023-04-27T22:10:03.112322",
     "status": "completed"
    },
    "tags": []
   },
   "outputs": [
    {
     "name": "stdout",
     "output_type": "stream",
     "text": [
      "Epoch 1/500\n",
      "40/40 [==============================] - 2s 14ms/step - loss: 0.6757 - accuracy: 0.6935 - val_loss: 0.6889 - val_accuracy: 0.3333\n",
      "Epoch 2/500\n",
      "40/40 [==============================] - 0s 7ms/step - loss: 0.6479 - accuracy: 0.6633 - val_loss: 0.6765 - val_accuracy: 0.4211\n",
      "Epoch 3/500\n",
      "40/40 [==============================] - 0s 6ms/step - loss: 0.6162 - accuracy: 0.7035 - val_loss: 0.6315 - val_accuracy: 0.7135\n",
      "Epoch 4/500\n",
      "40/40 [==============================] - 0s 6ms/step - loss: 0.5769 - accuracy: 0.8568 - val_loss: 0.5913 - val_accuracy: 0.7895\n",
      "Epoch 5/500\n",
      "40/40 [==============================] - 0s 5ms/step - loss: 0.5299 - accuracy: 0.8744 - val_loss: 0.5304 - val_accuracy: 0.8655\n",
      "Epoch 6/500\n",
      "40/40 [==============================] - 0s 5ms/step - loss: 0.4782 - accuracy: 0.9020 - val_loss: 0.4766 - val_accuracy: 0.8772\n",
      "Epoch 7/500\n",
      "40/40 [==============================] - 0s 6ms/step - loss: 0.4283 - accuracy: 0.9070 - val_loss: 0.4010 - val_accuracy: 0.9181\n",
      "Epoch 8/500\n",
      "40/40 [==============================] - 0s 7ms/step - loss: 0.3811 - accuracy: 0.9070 - val_loss: 0.3702 - val_accuracy: 0.8947\n",
      "Epoch 9/500\n",
      "40/40 [==============================] - 0s 7ms/step - loss: 0.3374 - accuracy: 0.9070 - val_loss: 0.3072 - val_accuracy: 0.9240\n",
      "Epoch 10/500\n",
      "40/40 [==============================] - 0s 7ms/step - loss: 0.3001 - accuracy: 0.9171 - val_loss: 0.2937 - val_accuracy: 0.9123\n",
      "Epoch 11/500\n",
      "40/40 [==============================] - 0s 12ms/step - loss: 0.2769 - accuracy: 0.9322 - val_loss: 0.3064 - val_accuracy: 0.8889\n",
      "Epoch 12/500\n",
      "40/40 [==============================] - 0s 6ms/step - loss: 0.2472 - accuracy: 0.9296 - val_loss: 0.2201 - val_accuracy: 0.9357\n",
      "Epoch 13/500\n",
      "40/40 [==============================] - 0s 6ms/step - loss: 0.2289 - accuracy: 0.9221 - val_loss: 0.2177 - val_accuracy: 0.9357\n",
      "Epoch 14/500\n",
      "40/40 [==============================] - 0s 6ms/step - loss: 0.2127 - accuracy: 0.9322 - val_loss: 0.2251 - val_accuracy: 0.9181\n",
      "Epoch 15/500\n",
      "40/40 [==============================] - 0s 6ms/step - loss: 0.2019 - accuracy: 0.9322 - val_loss: 0.1964 - val_accuracy: 0.9298\n",
      "Epoch 16/500\n",
      "40/40 [==============================] - 0s 6ms/step - loss: 0.1899 - accuracy: 0.9347 - val_loss: 0.1918 - val_accuracy: 0.9357\n",
      "Epoch 17/500\n",
      "40/40 [==============================] - 0s 6ms/step - loss: 0.1799 - accuracy: 0.9422 - val_loss: 0.1793 - val_accuracy: 0.9357\n",
      "Epoch 18/500\n",
      "40/40 [==============================] - 0s 6ms/step - loss: 0.1712 - accuracy: 0.9422 - val_loss: 0.1927 - val_accuracy: 0.9298\n",
      "Epoch 19/500\n",
      "40/40 [==============================] - 0s 7ms/step - loss: 0.1606 - accuracy: 0.9447 - val_loss: 0.1687 - val_accuracy: 0.9357\n",
      "Epoch 20/500\n",
      "40/40 [==============================] - 0s 5ms/step - loss: 0.1555 - accuracy: 0.9472 - val_loss: 0.1449 - val_accuracy: 0.9474\n",
      "Epoch 21/500\n",
      "40/40 [==============================] - 0s 6ms/step - loss: 0.1492 - accuracy: 0.9573 - val_loss: 0.1820 - val_accuracy: 0.9298\n",
      "Epoch 22/500\n",
      "40/40 [==============================] - 0s 6ms/step - loss: 0.1410 - accuracy: 0.9523 - val_loss: 0.1191 - val_accuracy: 0.9532\n",
      "Epoch 23/500\n",
      "40/40 [==============================] - 0s 6ms/step - loss: 0.1424 - accuracy: 0.9548 - val_loss: 0.1388 - val_accuracy: 0.9474\n",
      "Epoch 24/500\n",
      "40/40 [==============================] - 0s 6ms/step - loss: 0.1346 - accuracy: 0.9573 - val_loss: 0.1677 - val_accuracy: 0.9415\n",
      "Epoch 25/500\n",
      "40/40 [==============================] - 0s 7ms/step - loss: 0.1271 - accuracy: 0.9648 - val_loss: 0.1314 - val_accuracy: 0.9474\n",
      "Epoch 26/500\n",
      "40/40 [==============================] - 0s 6ms/step - loss: 0.1239 - accuracy: 0.9598 - val_loss: 0.1543 - val_accuracy: 0.9532\n",
      "Epoch 27/500\n",
      "40/40 [==============================] - 0s 5ms/step - loss: 0.1254 - accuracy: 0.9598 - val_loss: 0.1384 - val_accuracy: 0.9591\n",
      "Epoch 28/500\n",
      "40/40 [==============================] - 0s 7ms/step - loss: 0.1192 - accuracy: 0.9548 - val_loss: 0.1568 - val_accuracy: 0.9474\n",
      "Epoch 29/500\n",
      "40/40 [==============================] - 0s 6ms/step - loss: 0.1185 - accuracy: 0.9623 - val_loss: 0.1519 - val_accuracy: 0.9591\n",
      "Epoch 30/500\n",
      "40/40 [==============================] - 0s 7ms/step - loss: 0.1132 - accuracy: 0.9648 - val_loss: 0.1421 - val_accuracy: 0.9591\n",
      "Epoch 31/500\n",
      "40/40 [==============================] - 0s 7ms/step - loss: 0.1155 - accuracy: 0.9573 - val_loss: 0.1532 - val_accuracy: 0.9474\n",
      "Epoch 32/500\n",
      "40/40 [==============================] - 0s 6ms/step - loss: 0.1084 - accuracy: 0.9623 - val_loss: 0.1222 - val_accuracy: 0.9591\n",
      "Epoch 33/500\n",
      "40/40 [==============================] - 0s 6ms/step - loss: 0.1056 - accuracy: 0.9623 - val_loss: 0.1216 - val_accuracy: 0.9591\n",
      "Epoch 34/500\n",
      "40/40 [==============================] - 0s 6ms/step - loss: 0.1028 - accuracy: 0.9648 - val_loss: 0.0802 - val_accuracy: 0.9649\n",
      "Epoch 35/500\n",
      "40/40 [==============================] - 0s 6ms/step - loss: 0.1095 - accuracy: 0.9548 - val_loss: 0.1032 - val_accuracy: 0.9708\n",
      "Epoch 36/500\n",
      "40/40 [==============================] - 0s 6ms/step - loss: 0.1026 - accuracy: 0.9673 - val_loss: 0.1272 - val_accuracy: 0.9591\n",
      "Epoch 37/500\n",
      "40/40 [==============================] - 0s 6ms/step - loss: 0.1043 - accuracy: 0.9623 - val_loss: 0.1265 - val_accuracy: 0.9591\n",
      "Epoch 38/500\n",
      "40/40 [==============================] - 0s 6ms/step - loss: 0.0988 - accuracy: 0.9648 - val_loss: 0.1359 - val_accuracy: 0.9474\n",
      "Epoch 39/500\n",
      "40/40 [==============================] - 0s 6ms/step - loss: 0.0951 - accuracy: 0.9698 - val_loss: 0.1033 - val_accuracy: 0.9708\n",
      "Epoch 40/500\n",
      "40/40 [==============================] - 0s 6ms/step - loss: 0.0944 - accuracy: 0.9623 - val_loss: 0.1210 - val_accuracy: 0.9649\n",
      "Epoch 41/500\n",
      "40/40 [==============================] - 0s 6ms/step - loss: 0.0940 - accuracy: 0.9673 - val_loss: 0.1338 - val_accuracy: 0.9474\n",
      "Epoch 42/500\n",
      "40/40 [==============================] - 0s 6ms/step - loss: 0.1001 - accuracy: 0.9648 - val_loss: 0.1672 - val_accuracy: 0.9298\n",
      "Epoch 43/500\n",
      "40/40 [==============================] - 0s 6ms/step - loss: 0.1008 - accuracy: 0.9598 - val_loss: 0.1351 - val_accuracy: 0.9474\n",
      "Epoch 44/500\n",
      "40/40 [==============================] - 0s 7ms/step - loss: 0.0946 - accuracy: 0.9648 - val_loss: 0.1158 - val_accuracy: 0.9591\n",
      "Epoch 45/500\n",
      "40/40 [==============================] - 0s 6ms/step - loss: 0.0897 - accuracy: 0.9673 - val_loss: 0.1005 - val_accuracy: 0.9766\n",
      "Epoch 46/500\n",
      "40/40 [==============================] - 0s 6ms/step - loss: 0.0894 - accuracy: 0.9673 - val_loss: 0.0947 - val_accuracy: 0.9766\n",
      "Epoch 47/500\n",
      "40/40 [==============================] - 0s 6ms/step - loss: 0.0878 - accuracy: 0.9724 - val_loss: 0.1019 - val_accuracy: 0.9708\n",
      "Epoch 48/500\n",
      "40/40 [==============================] - 0s 6ms/step - loss: 0.0884 - accuracy: 0.9698 - val_loss: 0.0967 - val_accuracy: 0.9766\n",
      "Epoch 49/500\n",
      "40/40 [==============================] - 0s 6ms/step - loss: 0.0849 - accuracy: 0.9698 - val_loss: 0.1221 - val_accuracy: 0.9474\n",
      "Epoch 50/500\n",
      "40/40 [==============================] - 0s 7ms/step - loss: 0.0861 - accuracy: 0.9698 - val_loss: 0.0868 - val_accuracy: 0.9825\n",
      "Epoch 51/500\n",
      "40/40 [==============================] - 0s 6ms/step - loss: 0.0887 - accuracy: 0.9648 - val_loss: 0.0892 - val_accuracy: 0.9766\n",
      "Epoch 52/500\n",
      "40/40 [==============================] - 0s 6ms/step - loss: 0.0834 - accuracy: 0.9698 - val_loss: 0.1332 - val_accuracy: 0.9474\n",
      "Epoch 53/500\n",
      "40/40 [==============================] - 0s 6ms/step - loss: 0.0876 - accuracy: 0.9673 - val_loss: 0.1100 - val_accuracy: 0.9649\n",
      "Epoch 54/500\n",
      "40/40 [==============================] - 0s 7ms/step - loss: 0.0837 - accuracy: 0.9698 - val_loss: 0.0996 - val_accuracy: 0.9708\n",
      "Epoch 55/500\n",
      "40/40 [==============================] - 0s 7ms/step - loss: 0.0856 - accuracy: 0.9673 - val_loss: 0.0941 - val_accuracy: 0.9708\n",
      "Epoch 56/500\n",
      "40/40 [==============================] - 0s 6ms/step - loss: 0.0824 - accuracy: 0.9648 - val_loss: 0.1027 - val_accuracy: 0.9649\n",
      "Epoch 57/500\n",
      "40/40 [==============================] - 0s 6ms/step - loss: 0.0793 - accuracy: 0.9749 - val_loss: 0.1216 - val_accuracy: 0.9474\n",
      "Epoch 58/500\n",
      "40/40 [==============================] - 0s 7ms/step - loss: 0.0779 - accuracy: 0.9774 - val_loss: 0.0930 - val_accuracy: 0.9708\n",
      "Epoch 59/500\n",
      "40/40 [==============================] - 0s 6ms/step - loss: 0.0789 - accuracy: 0.9749 - val_loss: 0.1101 - val_accuracy: 0.9591\n",
      "Epoch 60/500\n",
      "40/40 [==============================] - 0s 6ms/step - loss: 0.0782 - accuracy: 0.9673 - val_loss: 0.1509 - val_accuracy: 0.9415\n",
      "Epoch 61/500\n",
      "40/40 [==============================] - 0s 7ms/step - loss: 0.0799 - accuracy: 0.9724 - val_loss: 0.1072 - val_accuracy: 0.9591\n",
      "Epoch 62/500\n",
      "40/40 [==============================] - 0s 6ms/step - loss: 0.0759 - accuracy: 0.9774 - val_loss: 0.1221 - val_accuracy: 0.9474\n",
      "Epoch 63/500\n",
      "40/40 [==============================] - 0s 6ms/step - loss: 0.0749 - accuracy: 0.9774 - val_loss: 0.0774 - val_accuracy: 0.9766\n",
      "Epoch 64/500\n",
      "40/40 [==============================] - 0s 6ms/step - loss: 0.0768 - accuracy: 0.9724 - val_loss: 0.1326 - val_accuracy: 0.9474\n",
      "Epoch 65/500\n",
      "40/40 [==============================] - 0s 6ms/step - loss: 0.0769 - accuracy: 0.9698 - val_loss: 0.0928 - val_accuracy: 0.9708\n",
      "Epoch 66/500\n",
      "40/40 [==============================] - 0s 6ms/step - loss: 0.0858 - accuracy: 0.9623 - val_loss: 0.1206 - val_accuracy: 0.9474\n",
      "Epoch 67/500\n",
      "40/40 [==============================] - 0s 6ms/step - loss: 0.0755 - accuracy: 0.9724 - val_loss: 0.0842 - val_accuracy: 0.9766\n",
      "Epoch 68/500\n",
      "40/40 [==============================] - 0s 6ms/step - loss: 0.0755 - accuracy: 0.9724 - val_loss: 0.0636 - val_accuracy: 0.9825\n",
      "Epoch 69/500\n",
      "40/40 [==============================] - 0s 6ms/step - loss: 0.0805 - accuracy: 0.9749 - val_loss: 0.1105 - val_accuracy: 0.9532\n",
      "Epoch 70/500\n",
      "40/40 [==============================] - 0s 6ms/step - loss: 0.0733 - accuracy: 0.9724 - val_loss: 0.0776 - val_accuracy: 0.9766\n",
      "Epoch 71/500\n",
      "40/40 [==============================] - 0s 7ms/step - loss: 0.0744 - accuracy: 0.9749 - val_loss: 0.0704 - val_accuracy: 0.9766\n",
      "Epoch 72/500\n",
      "40/40 [==============================] - 0s 6ms/step - loss: 0.0732 - accuracy: 0.9774 - val_loss: 0.0865 - val_accuracy: 0.9708\n",
      "Epoch 73/500\n",
      "40/40 [==============================] - 0s 6ms/step - loss: 0.0733 - accuracy: 0.9799 - val_loss: 0.0638 - val_accuracy: 0.9825\n",
      "Epoch 74/500\n",
      "40/40 [==============================] - 0s 6ms/step - loss: 0.0727 - accuracy: 0.9774 - val_loss: 0.1368 - val_accuracy: 0.9415\n",
      "Epoch 75/500\n",
      "40/40 [==============================] - 0s 6ms/step - loss: 0.0744 - accuracy: 0.9799 - val_loss: 0.1024 - val_accuracy: 0.9591\n",
      "Epoch 76/500\n",
      "40/40 [==============================] - 0s 6ms/step - loss: 0.0703 - accuracy: 0.9849 - val_loss: 0.0918 - val_accuracy: 0.9591\n",
      "Epoch 77/500\n",
      "40/40 [==============================] - 0s 6ms/step - loss: 0.0763 - accuracy: 0.9749 - val_loss: 0.1237 - val_accuracy: 0.9532\n",
      "Epoch 78/500\n",
      "40/40 [==============================] - 0s 6ms/step - loss: 0.0763 - accuracy: 0.9648 - val_loss: 0.1049 - val_accuracy: 0.9591\n",
      "Epoch 79/500\n",
      "40/40 [==============================] - 0s 5ms/step - loss: 0.0713 - accuracy: 0.9799 - val_loss: 0.1158 - val_accuracy: 0.9532\n",
      "Epoch 80/500\n",
      "40/40 [==============================] - 0s 6ms/step - loss: 0.0699 - accuracy: 0.9774 - val_loss: 0.1400 - val_accuracy: 0.9415\n",
      "Epoch 81/500\n",
      "40/40 [==============================] - 0s 5ms/step - loss: 0.0706 - accuracy: 0.9774 - val_loss: 0.0911 - val_accuracy: 0.9591\n",
      "Epoch 82/500\n",
      "40/40 [==============================] - 0s 6ms/step - loss: 0.0685 - accuracy: 0.9799 - val_loss: 0.0782 - val_accuracy: 0.9766\n",
      "Epoch 83/500\n",
      "40/40 [==============================] - 0s 6ms/step - loss: 0.0685 - accuracy: 0.9799 - val_loss: 0.1036 - val_accuracy: 0.9591\n",
      "Epoch 84/500\n",
      "40/40 [==============================] - 0s 7ms/step - loss: 0.0676 - accuracy: 0.9774 - val_loss: 0.1405 - val_accuracy: 0.9415\n",
      "Epoch 85/500\n",
      "40/40 [==============================] - 0s 6ms/step - loss: 0.0678 - accuracy: 0.9774 - val_loss: 0.0663 - val_accuracy: 0.9766\n",
      "Epoch 86/500\n",
      "40/40 [==============================] - 0s 6ms/step - loss: 0.0669 - accuracy: 0.9799 - val_loss: 0.1161 - val_accuracy: 0.9532\n",
      "Epoch 87/500\n",
      "40/40 [==============================] - 0s 6ms/step - loss: 0.0684 - accuracy: 0.9724 - val_loss: 0.1211 - val_accuracy: 0.9532\n",
      "Epoch 88/500\n",
      "40/40 [==============================] - 0s 6ms/step - loss: 0.0710 - accuracy: 0.9749 - val_loss: 0.1049 - val_accuracy: 0.9591\n",
      "Epoch 89/500\n",
      "40/40 [==============================] - 0s 6ms/step - loss: 0.0732 - accuracy: 0.9698 - val_loss: 0.0997 - val_accuracy: 0.9591\n",
      "Epoch 90/500\n",
      "40/40 [==============================] - 0s 6ms/step - loss: 0.0683 - accuracy: 0.9799 - val_loss: 0.1033 - val_accuracy: 0.9591\n",
      "Epoch 91/500\n",
      "40/40 [==============================] - 0s 7ms/step - loss: 0.0712 - accuracy: 0.9749 - val_loss: 0.1220 - val_accuracy: 0.9532\n",
      "Epoch 92/500\n",
      "40/40 [==============================] - 0s 7ms/step - loss: 0.0722 - accuracy: 0.9749 - val_loss: 0.0817 - val_accuracy: 0.9708\n",
      "Epoch 93/500\n",
      "40/40 [==============================] - 0s 6ms/step - loss: 0.0686 - accuracy: 0.9799 - val_loss: 0.0892 - val_accuracy: 0.9591\n",
      "Epoch 94/500\n",
      "40/40 [==============================] - 0s 6ms/step - loss: 0.0650 - accuracy: 0.9874 - val_loss: 0.0915 - val_accuracy: 0.9591\n",
      "Epoch 95/500\n",
      "40/40 [==============================] - 0s 7ms/step - loss: 0.0654 - accuracy: 0.9799 - val_loss: 0.0780 - val_accuracy: 0.9708\n",
      "Epoch 96/500\n",
      "40/40 [==============================] - 0s 6ms/step - loss: 0.0644 - accuracy: 0.9849 - val_loss: 0.0749 - val_accuracy: 0.9766\n",
      "Epoch 97/500\n",
      "40/40 [==============================] - 0s 7ms/step - loss: 0.0647 - accuracy: 0.9799 - val_loss: 0.1157 - val_accuracy: 0.9532\n",
      "Epoch 98/500\n",
      "40/40 [==============================] - 0s 6ms/step - loss: 0.0673 - accuracy: 0.9774 - val_loss: 0.1154 - val_accuracy: 0.9532\n",
      "Epoch 99/500\n",
      "40/40 [==============================] - 0s 6ms/step - loss: 0.0657 - accuracy: 0.9749 - val_loss: 0.0554 - val_accuracy: 0.9825\n",
      "Epoch 100/500\n",
      "40/40 [==============================] - 0s 6ms/step - loss: 0.0644 - accuracy: 0.9774 - val_loss: 0.0991 - val_accuracy: 0.9591\n",
      "Epoch 101/500\n",
      "38/40 [===========================>..] - ETA: 0s - loss: 0.0623 - accuracy: 0.9816\n",
      "Reached wanted accuracy so cancelling training!\n",
      "40/40 [==============================] - 0s 6ms/step - loss: 0.0613 - accuracy: 0.9824 - val_loss: 0.0539 - val_accuracy: 0.9883\n"
     ]
    }
   ],
   "source": [
    "#let's train\n",
    "epochs_len = 500\n",
    "history = model2.fit(\n",
    "    x_train, y_train,\n",
    "    epochs=epochs_len,\n",
    "    batch_size=10,\n",
    "    verbose=1,\n",
    "    validation_data=(x_test, y_test), \n",
    "    callbacks=[callbacks]\n",
    "    )"
   ]
  },
  {
   "cell_type": "code",
   "execution_count": 10,
   "id": "ba872ec4",
   "metadata": {
    "execution": {
     "iopub.execute_input": "2023-04-27T22:10:29.991453Z",
     "iopub.status.busy": "2023-04-27T22:10:29.990994Z",
     "iopub.status.idle": "2023-04-27T22:10:45.808268Z",
     "shell.execute_reply": "2023-04-27T22:10:45.806945Z"
    },
    "papermill": {
     "duration": 15.864529,
     "end_time": "2023-04-27T22:10:45.811524",
     "exception": false,
     "start_time": "2023-04-27T22:10:29.946995",
     "status": "completed"
    },
    "tags": []
   },
   "outputs": [
    {
     "data": {
      "image/png": "[encoded data removed]",
      "text/plain": [
       "<Figure size 640x480 with 1 Axes>"
      ]
     },
     "metadata": {},
     "output_type": "display_data"
    }
   ],
   "source": [
    "train_accuracy = history.history['accuracy']\n",
    "val_accuracy = history.history['val_accuracy']\n",
    "\n",
    "epochs = range(1,history.epoch[-1]+2)\n",
    "plt.plot(epochs, train_accuracy, 'g', label='Training accuracy')\n",
    "plt.plot(epochs, val_accuracy, 'b', label='validation accuracy')\n",
    "plt.title('Training and Validation accuracy')\n",
    "plt.xlabel('Epochs')\n",
    "plt.ylabel('Accuracy')\n",
    "plt.legend()\n",
    "plt.show()"
   ]
  },
  {
   "cell_type": "code",
   "execution_count": 11,
   "id": "074d2247",
   "metadata": {
    "execution": {
     "iopub.execute_input": "2023-04-27T22:10:45.899680Z",
     "iopub.status.busy": "2023-04-27T22:10:45.899268Z",
     "iopub.status.idle": "2023-04-27T22:10:46.128180Z",
     "shell.execute_reply": "2023-04-27T22:10:46.127011Z"
    },
    "papermill": {
     "duration": 0.276729,
     "end_time": "2023-04-27T22:10:46.131204",
     "exception": false,
     "start_time": "2023-04-27T22:10:45.854475",
     "status": "completed"
    },
    "tags": []
   },
   "outputs": [
    {
     "data": {
      "image/png": "[encoded data removed]",
      "text/plain": [
       "<Figure size 640x480 with 1 Axes>"
      ]
     },
     "metadata": {},
     "output_type": "display_data"
    }
   ],
   "source": [
    "train_loss = history.history['loss']\n",
    "val_loss = history.history['val_loss']\n",
    "\n",
    "plt.plot(epochs, train_loss, 'g', label='Training loss')\n",
    "plt.plot(epochs, val_loss, 'b', label='validation loss')\n",
    "plt.title('Training and Validation losses')\n",
    "plt.xlabel('Epochs')\n",
    "plt.ylabel('loss')\n",
    "plt.legend()\n",
    "plt.show()\n"
   ]
  },
  {
   "cell_type": "code",
   "execution_count": null,
   "id": "70a0f683",
   "metadata": {
    "papermill": {
     "duration": 0.042409,
     "end_time": "2023-04-27T22:10:46.216962",
     "exception": false,
     "start_time": "2023-04-27T22:10:46.174553",
     "status": "completed"
    },
    "tags": []
   },
   "outputs": [],
   "source": []
  }
 ],
 "metadata": {
  "kernelspec": {
   "display_name": "Python 3",
   "language": "python",
   "name": "python3"
  },
  "language_info": {
   "codemirror_mode": {
    "name": "ipython",
    "version": 3
   },
   "file_extension": ".py",
   "mimetype": "text/x-python",
   "name": "python",
   "nbconvert_exporter": "python",
   "pygments_lexer": "ipython3",
   "version": "3.7.12"
  },
  "papermill": {
   "default_parameters": {},
   "duration": 66.814396,
   "end_time": "2023-04-27T22:10:49.705308",
   "environment_variables": {},
   "exception": null,
   "input_path": "__notebook__.ipynb",
   "output_path": "__notebook__.ipynb",
   "parameters": {},
   "start_time": "2023-04-27T22:09:42.890912",
   "version": "2.4.0"
  }
 },
 "nbformat": 4,
 "nbformat_minor": 5
}
