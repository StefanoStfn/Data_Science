{
 "cells": [
  {
   "cell_type": "markdown",
   "id": "25eaad51",
   "metadata": {},
   "source": [
    "This script tries to apply Fraud Detection Classification in binary way. The used dataset is the one below:\n",
    "\n",
    "https://www.kaggle.com/datasets/nelgiriyewithana/credit-card-fraud-detection-dataset-2023\n",
    "\n",
    "An accuracy of 94% is reached using four layers Fully Connected Neural Network"
   ]
  },
  {
   "cell_type": "code",
   "execution_count": null,
   "id": "b4adbf99",
   "metadata": {
    "_cell_guid": "b1076dfc-b9ad-4769-8c92-a6c4dae69d19",
    "_uuid": "8f2839f25d086af736a60e9eeb907d3b93b6e0e5",
    "execution": {
     "iopub.execute_input": "2023-10-11T13:38:40.365861Z",
     "iopub.status.busy": "2023-10-11T13:38:40.365113Z",
     "iopub.status.idle": "2023-10-11T13:38:56.961514Z",
     "shell.execute_reply": "2023-10-11T13:38:56.960545Z"
    },
    "papermill": {
     "duration": 16.607868,
     "end_time": "2023-10-11T13:38:56.963770",
     "exception": false,
     "start_time": "2023-10-11T13:38:40.355902",
     "status": "completed"
    },
    "tags": []
   },
   "outputs": [],
   "source": [
    "import tensorflow as tf\n",
    "import numpy as np\n",
    "from tensorflow import keras\n",
    "import csv\n",
    "import matplotlib.pyplot as plt\n",
    "from sklearn.utils import shuffle"
   ]
  },
  {
   "cell_type": "code",
   "execution_count": 2,
   "id": "e16c96ef",
   "metadata": {
    "execution": {
     "iopub.execute_input": "2023-10-11T13:38:56.971099Z",
     "iopub.status.busy": "2023-10-11T13:38:56.970571Z",
     "iopub.status.idle": "2023-10-11T13:39:09.555391Z",
     "shell.execute_reply": "2023-10-11T13:39:09.554328Z"
    },
    "papermill": {
     "duration": 12.590725,
     "end_time": "2023-10-11T13:39:09.557578",
     "exception": false,
     "start_time": "2023-10-11T13:38:56.966853",
     "status": "completed"
    },
    "tags": []
   },
   "outputs": [],
   "source": [
    "ds_features = []\n",
    "class_list = []\n",
    "with open('/kaggle/input/credit-card-fraud-detection-dataset-2023/creditcard_2023.csv', 'r') as csvfile:\n",
    "    reader = csv.reader(csvfile, delimiter=',')\n",
    "    skip_labels = next(reader) #skip first line\n",
    "    for row in reader:\n",
    "        tmp_row = [float(item) for item in row[:-1]]\n",
    "        ds_features.append(tmp_row[1:])\n",
    "        class_list.append(float(row[-1]))"
   ]
  },
  {
   "cell_type": "code",
   "execution_count": 3,
   "id": "e7e6e6d2",
   "metadata": {
    "execution": {
     "iopub.execute_input": "2023-10-11T13:39:09.565343Z",
     "iopub.status.busy": "2023-10-11T13:39:09.564446Z",
     "iopub.status.idle": "2023-10-11T13:39:11.195732Z",
     "shell.execute_reply": "2023-10-11T13:39:11.194680Z"
    },
    "papermill": {
     "duration": 1.637444,
     "end_time": "2023-10-11T13:39:11.198102",
     "exception": false,
     "start_time": "2023-10-11T13:39:09.560658",
     "status": "completed"
    },
    "tags": []
   },
   "outputs": [],
   "source": [
    "#making list numpy array\n",
    "ds_features = np.array(ds_features).astype('float64')\n",
    "class_list = np.array(class_list)"
   ]
  },
  {
   "cell_type": "code",
   "execution_count": 4,
   "id": "9ed782d9",
   "metadata": {
    "execution": {
     "iopub.execute_input": "2023-10-11T13:39:11.205768Z",
     "iopub.status.busy": "2023-10-11T13:39:11.204669Z",
     "iopub.status.idle": "2023-10-11T13:39:13.096210Z",
     "shell.execute_reply": "2023-10-11T13:39:13.095240Z"
    },
    "papermill": {
     "duration": 1.897335,
     "end_time": "2023-10-11T13:39:13.098380",
     "exception": false,
     "start_time": "2023-10-11T13:39:11.201045",
     "status": "completed"
    },
    "tags": []
   },
   "outputs": [],
   "source": [
    "#features regularization, remove mean, reshape with std_dev\n",
    "#and rescale (normalization) by highest feature value\n",
    "for index in range(len(ds_features[0])):\n",
    "    ds_features[:,index] -= ds_features[:,index].mean()\n",
    "    ds_features[:,index] /= ds_features[:,index].std()\n",
    "    ds_features[:,index] /= max(ds_features[:,index])"
   ]
  },
  {
   "cell_type": "code",
   "execution_count": 5,
   "id": "59d87886",
   "metadata": {
    "execution": {
     "iopub.execute_input": "2023-10-11T13:39:13.105190Z",
     "iopub.status.busy": "2023-10-11T13:39:13.104677Z",
     "iopub.status.idle": "2023-10-11T13:39:13.204224Z",
     "shell.execute_reply": "2023-10-11T13:39:13.203269Z"
    },
    "papermill": {
     "duration": 0.105173,
     "end_time": "2023-10-11T13:39:13.206372",
     "exception": false,
     "start_time": "2023-10-11T13:39:13.101199",
     "status": "completed"
    },
    "tags": []
   },
   "outputs": [],
   "source": [
    "#SPLIT in training and validation sets\n",
    "X, Y = shuffle(ds_features, class_list)\n",
    "split_ratio = 0.985\n",
    "X_train, Y_train = X[:int(split_ratio*X.shape[0])], Y[:int(split_ratio*Y.shape[0])]\n",
    "X_valid, Y_valid = X[int(split_ratio*X.shape[0]):], Y[int(split_ratio*Y.shape[0]):]"
   ]
  },
  {
   "cell_type": "code",
   "execution_count": 6,
   "id": "e4044a38",
   "metadata": {
    "execution": {
     "iopub.execute_input": "2023-10-11T13:39:13.213115Z",
     "iopub.status.busy": "2023-10-11T13:39:13.212820Z",
     "iopub.status.idle": "2023-10-11T13:39:13.217560Z",
     "shell.execute_reply": "2023-10-11T13:39:13.216746Z"
    },
    "papermill": {
     "duration": 0.010091,
     "end_time": "2023-10-11T13:39:13.219418",
     "exception": false,
     "start_time": "2023-10-11T13:39:13.209327",
     "status": "completed"
    },
    "tags": []
   },
   "outputs": [
    {
     "name": "stdout",
     "output_type": "stream",
     "text": [
      "(560100, 29)\n",
      "(560100,)\n",
      "(8530, 29)\n",
      "(8530,)\n"
     ]
    }
   ],
   "source": [
    "print(X_train.shape)\n",
    "print(Y_train.shape)\n",
    "print(X_valid.shape)\n",
    "print(Y_valid.shape)"
   ]
  },
  {
   "cell_type": "code",
   "execution_count": 7,
   "id": "bdb0f115",
   "metadata": {
    "execution": {
     "iopub.execute_input": "2023-10-11T13:39:13.226089Z",
     "iopub.status.busy": "2023-10-11T13:39:13.225325Z",
     "iopub.status.idle": "2023-10-11T13:39:20.067576Z",
     "shell.execute_reply": "2023-10-11T13:39:20.066627Z"
    },
    "papermill": {
     "duration": 6.847845,
     "end_time": "2023-10-11T13:39:20.069868",
     "exception": false,
     "start_time": "2023-10-11T13:39:13.222023",
     "status": "completed"
    },
    "tags": []
   },
   "outputs": [],
   "source": [
    "#model definition\n",
    "model = tf.keras.Sequential([\n",
    "    tf.keras.layers.Dense(5, activation = 'relu', kernel_initializer='he_normal'),\n",
    "    tf.keras.layers.Dense(5, activation = 'relu', kernel_initializer='he_normal'),\n",
    "    tf.keras.layers.Dense(5, activation = 'relu', kernel_initializer='he_normal'),\n",
    "    tf.keras.layers.Dense(1, activation='sigmoid', kernel_initializer='he_normal')])"
   ]
  },
  {
   "cell_type": "code",
   "execution_count": 8,
   "id": "209c7a46",
   "metadata": {
    "execution": {
     "iopub.execute_input": "2023-10-11T13:39:20.076791Z",
     "iopub.status.busy": "2023-10-11T13:39:20.076515Z",
     "iopub.status.idle": "2023-10-11T13:39:20.111474Z",
     "shell.execute_reply": "2023-10-11T13:39:20.110617Z"
    },
    "papermill": {
     "duration": 0.041495,
     "end_time": "2023-10-11T13:39:20.114180",
     "exception": false,
     "start_time": "2023-10-11T13:39:20.072685",
     "status": "completed"
    },
    "tags": []
   },
   "outputs": [],
   "source": [
    "model.compile(\n",
    "    loss='binary_crossentropy',\n",
    "    optimizer=tf.keras.optimizers.SGD(learning_rate=1e-5, momentum=0.9),\n",
    "    metrics=['accuracy'])"
   ]
  },
  {
   "cell_type": "code",
   "execution_count": 9,
   "id": "e8af376f",
   "metadata": {
    "execution": {
     "iopub.execute_input": "2023-10-11T13:39:20.130225Z",
     "iopub.status.busy": "2023-10-11T13:39:20.129778Z",
     "iopub.status.idle": "2023-10-11T13:39:20.136661Z",
     "shell.execute_reply": "2023-10-11T13:39:20.135641Z"
    },
    "papermill": {
     "duration": 0.017771,
     "end_time": "2023-10-11T13:39:20.138539",
     "exception": false,
     "start_time": "2023-10-11T13:39:20.120768",
     "status": "completed"
    },
    "tags": []
   },
   "outputs": [],
   "source": [
    "class EarlyStop(keras.callbacks.Callback):\n",
    "    def on_epoch_end(self, epoch, logs={}):\n",
    "        if logs.get('loss') is not None and logs.get('accuracy') > 0.94 and logs.get('val_accuracy')  > 0.94:                 \n",
    "            print(\"\\nReached wanted accuracy so cancelling training!\")\n",
    "            self.model.stop_training = True\n",
    "early_stop_cb = EarlyStop()"
   ]
  },
  {
   "cell_type": "code",
   "execution_count": 10,
   "id": "e934d598",
   "metadata": {
    "execution": {
     "iopub.execute_input": "2023-10-11T13:39:20.153074Z",
     "iopub.status.busy": "2023-10-11T13:39:20.152652Z",
     "iopub.status.idle": "2023-10-11T13:58:04.635204Z",
     "shell.execute_reply": "2023-10-11T13:58:04.633815Z"
    },
    "papermill": {
     "duration": 1124.49181,
     "end_time": "2023-10-11T13:58:04.637319",
     "exception": false,
     "start_time": "2023-10-11T13:39:20.145509",
     "status": "completed"
    },
    "tags": []
   },
   "outputs": [
    {
     "name": "stdout",
     "output_type": "stream",
     "text": [
      "Epoch 1/100\n",
      "17504/17504 [==============================] - 68s 4ms/step - loss: 0.6713 - accuracy: 0.7004 - val_loss: 0.6559 - val_accuracy: 0.7679\n",
      "Epoch 2/100\n",
      "17504/17504 [==============================] - 61s 4ms/step - loss: 0.6321 - accuracy: 0.7962 - val_loss: 0.6041 - val_accuracy: 0.8233\n",
      "Epoch 3/100\n",
      "17504/17504 [==============================] - 61s 4ms/step - loss: 0.5665 - accuracy: 0.8422 - val_loss: 0.5238 - val_accuracy: 0.8634\n",
      "Epoch 4/100\n",
      "17504/17504 [==============================] - 62s 4ms/step - loss: 0.4720 - accuracy: 0.8734 - val_loss: 0.4192 - val_accuracy: 0.8839\n",
      "Epoch 5/100\n",
      "17504/17504 [==============================] - 65s 4ms/step - loss: 0.3728 - accuracy: 0.8864 - val_loss: 0.3294 - val_accuracy: 0.8910\n",
      "Epoch 6/100\n",
      "17504/17504 [==============================] - 64s 4ms/step - loss: 0.2997 - accuracy: 0.8962 - val_loss: 0.2709 - val_accuracy: 0.9040\n",
      "Epoch 7/100\n",
      "17504/17504 [==============================] - 63s 4ms/step - loss: 0.2538 - accuracy: 0.9096 - val_loss: 0.2354 - val_accuracy: 0.9164\n",
      "Epoch 8/100\n",
      "17504/17504 [==============================] - 64s 4ms/step - loss: 0.2263 - accuracy: 0.9183 - val_loss: 0.2140 - val_accuracy: 0.9210\n",
      "Epoch 9/100\n",
      "17504/17504 [==============================] - 62s 4ms/step - loss: 0.2096 - accuracy: 0.9235 - val_loss: 0.2007 - val_accuracy: 0.9263\n",
      "Epoch 10/100\n",
      "17504/17504 [==============================] - 63s 4ms/step - loss: 0.1992 - accuracy: 0.9270 - val_loss: 0.1919 - val_accuracy: 0.9293\n",
      "Epoch 11/100\n",
      "17504/17504 [==============================] - 61s 4ms/step - loss: 0.1921 - accuracy: 0.9299 - val_loss: 0.1856 - val_accuracy: 0.9322\n",
      "Epoch 12/100\n",
      "17504/17504 [==============================] - 61s 3ms/step - loss: 0.1867 - accuracy: 0.9330 - val_loss: 0.1807 - val_accuracy: 0.9338\n",
      "Epoch 13/100\n",
      "17504/17504 [==============================] - 61s 3ms/step - loss: 0.1823 - accuracy: 0.9350 - val_loss: 0.1766 - val_accuracy: 0.9358\n",
      "Epoch 14/100\n",
      "17504/17504 [==============================] - 63s 4ms/step - loss: 0.1784 - accuracy: 0.9366 - val_loss: 0.1730 - val_accuracy: 0.9376\n",
      "Epoch 15/100\n",
      "17504/17504 [==============================] - 63s 4ms/step - loss: 0.1748 - accuracy: 0.9378 - val_loss: 0.1698 - val_accuracy: 0.9385\n",
      "Epoch 16/100\n",
      "17504/17504 [==============================] - 61s 3ms/step - loss: 0.1714 - accuracy: 0.9387 - val_loss: 0.1669 - val_accuracy: 0.9396\n",
      "Epoch 17/100\n",
      "17504/17504 [==============================] - 61s 3ms/step - loss: 0.1683 - accuracy: 0.9396 - val_loss: 0.1640 - val_accuracy: 0.9403\n",
      "Epoch 18/100\n",
      "17503/17504 [============================>.] - ETA: 0s - loss: 0.1654 - accuracy: 0.9403\n",
      "Reached wanted accuracy so cancelling training!\n",
      "17504/17504 [==============================] - 61s 3ms/step - loss: 0.1654 - accuracy: 0.9403 - val_loss: 0.1614 - val_accuracy: 0.9408\n"
     ]
    }
   ],
   "source": [
    "epochs = 100\n",
    "history = model.fit(\n",
    "            X_train, Y_train,\n",
    "            epochs=epochs,\n",
    "            validation_data=(X_valid, Y_valid),\n",
    "            verbose=1,\n",
    "            callbacks=[early_stop_cb])"
   ]
  },
  {
   "cell_type": "code",
   "execution_count": 11,
   "id": "4e0d43e2",
   "metadata": {
    "execution": {
     "iopub.execute_input": "2023-10-11T13:58:07.451827Z",
     "iopub.status.busy": "2023-10-11T13:58:07.451469Z",
     "iopub.status.idle": "2023-10-11T13:58:43.400735Z",
     "shell.execute_reply": "2023-10-11T13:58:43.399886Z"
    },
    "papermill": {
     "duration": 38.670606,
     "end_time": "2023-10-11T13:58:44.429246",
     "exception": false,
     "start_time": "2023-10-11T13:58:05.758640",
     "status": "completed"
    },
    "tags": []
   },
   "outputs": [
    {
     "data": {
      "image/png": "[encoded data removed]",
      "text/plain": [
       "<Figure size 640x480 with 1 Axes>"
      ]
     },
     "metadata": {},
     "output_type": "display_data"
    }
   ],
   "source": [
    "epoch_range = np.arange(1, history.epoch[-1]+2)\n",
    "train_loss = history.history['loss']\n",
    "val_loss = history.history['val_loss']\n",
    "\n",
    "plt.plot(epoch_range, train_loss, 'g', label='Training loss')\n",
    "plt.plot(epoch_range, val_loss, 'b', label='validation loss')\n",
    "plt.title('Training and Validation losses')\n",
    "plt.xlabel('Epochs')\n",
    "plt.ylabel('loss')\n",
    "plt.legend()\n",
    "plt.show()"
   ]
  },
  {
   "cell_type": "code",
   "execution_count": 12,
   "id": "67974a63",
   "metadata": {
    "execution": {
     "iopub.execute_input": "2023-10-11T13:58:46.498266Z",
     "iopub.status.busy": "2023-10-11T13:58:46.497922Z",
     "iopub.status.idle": "2023-10-11T13:58:46.766635Z",
     "shell.execute_reply": "2023-10-11T13:58:46.765811Z"
    },
    "papermill": {
     "duration": 1.298156,
     "end_time": "2023-10-11T13:58:46.768537",
     "exception": false,
     "start_time": "2023-10-11T13:58:45.470381",
     "status": "completed"
    },
    "tags": []
   },
   "outputs": [
    {
     "data": {
      "image/png": "[encoded data removed]",
      "text/plain": [
       "<Figure size 640x480 with 1 Axes>"
      ]
     },
     "metadata": {},
     "output_type": "display_data"
    }
   ],
   "source": [
    "train_accuracy = history.history['accuracy']\n",
    "val_accuracy = history.history['val_accuracy']\n",
    "\n",
    "plt.plot(epoch_range, train_accuracy, 'g', label='Training accuracy')\n",
    "plt.plot(epoch_range, val_accuracy, 'b', label='validation accuracy')\n",
    "plt.title('Training and Validation accuracy')\n",
    "plt.xlabel('Epochs')\n",
    "plt.ylabel('Accuracy')\n",
    "plt.legend()\n",
    "plt.show()"
   ]
  },
  {
   "cell_type": "code",
   "execution_count": null,
   "id": "bc88f60d",
   "metadata": {
    "papermill": {
     "duration": 0.975602,
     "end_time": "2023-10-11T13:58:48.794445",
     "exception": false,
     "start_time": "2023-10-11T13:58:47.818843",
     "status": "completed"
    },
    "tags": []
   },
   "outputs": [],
   "source": []
  }
 ],
 "metadata": {
  "kernelspec": {
   "display_name": "Python 3",
   "language": "python",
   "name": "python3"
  },
  "language_info": {
   "codemirror_mode": {
    "name": "ipython",
    "version": 3
   },
   "file_extension": ".py",
   "mimetype": "text/x-python",
   "name": "python",
   "nbconvert_exporter": "python",
   "pygments_lexer": "ipython3",
   "version": "3.10.12"
  },
  "papermill": {
   "default_parameters": {},
   "duration": 1217.395839,
   "end_time": "2023-10-11T13:58:53.490168",
   "environment_variables": {},
   "exception": null,
   "input_path": "__notebook__.ipynb",
   "output_path": "__notebook__.ipynb",
   "parameters": {},
   "start_time": "2023-10-11T13:38:36.094329",
   "version": "2.4.0"
  }
 },
 "nbformat": 4,
 "nbformat_minor": 5
}
