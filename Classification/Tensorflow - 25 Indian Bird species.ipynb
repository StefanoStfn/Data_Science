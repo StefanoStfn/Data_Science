{
 "cells": [
  {
   "cell_type": "markdown",
   "id": "c0cebb9e",
   "metadata": {},
   "source": [
    "This script tries to classify 25 Indian bird species. The used dataset is the one below:\n",
    "\n",
    "https://www.kaggle.com/datasets/arjunbasandrai/25-indian-bird-species-with-226k-images\n",
    "\n",
    "An accuracy of 85.6% is reached using Transfer learning technique.\n",
    "\n",
    "Feature Extractor architecture is MobileNet based.\n",
    "\n",
    "Resource:\n",
    "\n",
    "Howard, Andrew G., et al. \"Mobilenets: Efficient convolutional neural networks for mobile vision applications.\" arXiv preprint arXiv:1704.04861 (2017).\n",
    "\n",
    "Reference Article: https://arxiv.org/abs/1704.04861"
   ]
  },
  {
   "cell_type": "code",
   "execution_count": 1,
   "id": "8476c5cc",
   "metadata": {
    "execution": {
     "iopub.execute_input": "2023-06-10T21:48:31.546083Z",
     "iopub.status.busy": "2023-06-10T21:48:31.544921Z",
     "iopub.status.idle": "2023-06-10T21:48:39.799337Z",
     "shell.execute_reply": "2023-06-10T21:48:39.798114Z"
    },
    "papermill": {
     "duration": 8.264593,
     "end_time": "2023-06-10T21:48:39.802779",
     "exception": false,
     "start_time": "2023-06-10T21:48:31.538186",
     "status": "completed"
    },
    "tags": []
   },
   "outputs": [],
   "source": [
    "import tensorflow as tf\n",
    "import numpy as np\n",
    "from tensorflow import keras\n",
    "from keras import backend as K\n",
    "from tensorflow.keras.layers import Layer\n",
    "from tensorflow.keras import initializers\n",
    "import matplotlib.pyplot as plt\n",
    "import math"
   ]
  },
  {
   "cell_type": "code",
   "execution_count": 2,
   "id": "acc69dfa",
   "metadata": {
    "execution": {
     "iopub.execute_input": "2023-06-10T21:48:39.812600Z",
     "iopub.status.busy": "2023-06-10T21:48:39.811851Z",
     "iopub.status.idle": "2023-06-10T21:48:42.120459Z",
     "shell.execute_reply": "2023-06-10T21:48:42.119387Z"
    },
    "papermill": {
     "duration": 2.316443,
     "end_time": "2023-06-10T21:48:42.123352",
     "exception": false,
     "start_time": "2023-06-10T21:48:39.806909",
     "status": "completed"
    },
    "tags": []
   },
   "outputs": [
    {
     "name": "stdout",
     "output_type": "stream",
     "text": [
      "Found 18106 images belonging to 25 classes.\n",
      "Found 4514 images belonging to 25 classes.\n"
     ]
    }
   ],
   "source": [
    "train_datagen = tf.keras.preprocessing.image.ImageDataGenerator(\n",
    "    rescale = 1.0/255.0,\n",
    "    validation_split=0.2)\n",
    "\n",
    "train_data_dir = \"/kaggle/input/25-indian-bird-species-with-226k-images/training_set/training_set/\"\n",
    "\n",
    "train_generator = train_datagen.flow_from_directory(\n",
    "    train_data_dir,\n",
    "    target_size=(200,200),\n",
    "    batch_size=256,\n",
    "    class_mode='categorical',\n",
    "    subset='training')\n",
    "\n",
    "val_generator = train_datagen.flow_from_directory(\n",
    "    train_data_dir,\n",
    "    target_size=(200,200),\n",
    "    batch_size=256,\n",
    "    class_mode='categorical',\n",
    "    subset='validation')\n"
   ]
  },
  {
   "cell_type": "code",
   "execution_count": 3,
   "id": "ec5a4a75",
   "metadata": {
    "execution": {
     "iopub.execute_input": "2023-06-10T21:48:42.132630Z",
     "iopub.status.busy": "2023-06-10T21:48:42.132311Z",
     "iopub.status.idle": "2023-06-10T21:48:47.292503Z",
     "shell.execute_reply": "2023-06-10T21:48:47.291424Z"
    },
    "papermill": {
     "duration": 5.303252,
     "end_time": "2023-06-10T21:48:47.430612",
     "exception": false,
     "start_time": "2023-06-10T21:48:42.127360",
     "status": "completed"
    },
    "tags": []
   },
   "outputs": [
    {
     "name": "stdout",
     "output_type": "stream",
     "text": [
      "Downloading data from https://storage.googleapis.com/tensorflow/keras-applications/mobilenet/mobilenet_1_0_224_tf_no_top.h5\n",
      "17225924/17225924 [==============================] - 0s 0us/step\n",
      "Model: \"mobilenet_1.00_224\"\n",
      "_________________________________________________________________\n",
      " Layer (type)                Output Shape              Param #   \n",
      "=================================================================\n",
      " input_1 (InputLayer)        [(None, 200, 200, 3)]     0         \n",
      "                                                                 \n",
      " conv1 (Conv2D)              (None, 100, 100, 32)      864       \n",
      "                                                                 \n",
      " conv1_bn (BatchNormalizatio  (None, 100, 100, 32)     128       \n",
      " n)                                                              \n",
      "                                                                 \n",
      " conv1_relu (ReLU)           (None, 100, 100, 32)      0         \n",
      "                                                                 \n",
      " conv_dw_1 (DepthwiseConv2D)  (None, 100, 100, 32)     288       \n",
      "                                                                 \n",
      " conv_dw_1_bn (BatchNormaliz  (None, 100, 100, 32)     128       \n",
      " ation)                                                          \n",
      "                                                                 \n",
      " conv_dw_1_relu (ReLU)       (None, 100, 100, 32)      0         \n",
      "                                                                 \n",
      " conv_pw_1 (Conv2D)          (None, 100, 100, 64)      2048      \n",
      "                                                                 \n",
      " conv_pw_1_bn (BatchNormaliz  (None, 100, 100, 64)     256       \n",
      " ation)                                                          \n",
      "                                                                 \n",
      " conv_pw_1_relu (ReLU)       (None, 100, 100, 64)      0         \n",
      "                                                                 \n",
      " conv_pad_2 (ZeroPadding2D)  (None, 101, 101, 64)      0         \n",
      "                                                                 \n",
      " conv_dw_2 (DepthwiseConv2D)  (None, 50, 50, 64)       576       \n",
      "                                                                 \n",
      " conv_dw_2_bn (BatchNormaliz  (None, 50, 50, 64)       256       \n",
      " ation)                                                          \n",
      "                                                                 \n",
      " conv_dw_2_relu (ReLU)       (None, 50, 50, 64)        0         \n",
      "                                                                 \n",
      " conv_pw_2 (Conv2D)          (None, 50, 50, 128)       8192      \n",
      "                                                                 \n",
      " conv_pw_2_bn (BatchNormaliz  (None, 50, 50, 128)      512       \n",
      " ation)                                                          \n",
      "                                                                 \n",
      " conv_pw_2_relu (ReLU)       (None, 50, 50, 128)       0         \n",
      "                                                                 \n",
      " conv_dw_3 (DepthwiseConv2D)  (None, 50, 50, 128)      1152      \n",
      "                                                                 \n",
      " conv_dw_3_bn (BatchNormaliz  (None, 50, 50, 128)      512       \n",
      " ation)                                                          \n",
      "                                                                 \n",
      " conv_dw_3_relu (ReLU)       (None, 50, 50, 128)       0         \n",
      "                                                                 \n",
      " conv_pw_3 (Conv2D)          (None, 50, 50, 128)       16384     \n",
      "                                                                 \n",
      " conv_pw_3_bn (BatchNormaliz  (None, 50, 50, 128)      512       \n",
      " ation)                                                          \n",
      "                                                                 \n",
      " conv_pw_3_relu (ReLU)       (None, 50, 50, 128)       0         \n",
      "                                                                 \n",
      " conv_pad_4 (ZeroPadding2D)  (None, 51, 51, 128)       0         \n",
      "                                                                 \n",
      " conv_dw_4 (DepthwiseConv2D)  (None, 25, 25, 128)      1152      \n",
      "                                                                 \n",
      " conv_dw_4_bn (BatchNormaliz  (None, 25, 25, 128)      512       \n",
      " ation)                                                          \n",
      "                                                                 \n",
      " conv_dw_4_relu (ReLU)       (None, 25, 25, 128)       0         \n",
      "                                                                 \n",
      " conv_pw_4 (Conv2D)          (None, 25, 25, 256)       32768     \n",
      "                                                                 \n",
      " conv_pw_4_bn (BatchNormaliz  (None, 25, 25, 256)      1024      \n",
      " ation)                                                          \n",
      "                                                                 \n",
      " conv_pw_4_relu (ReLU)       (None, 25, 25, 256)       0         \n",
      "                                                                 \n",
      " conv_dw_5 (DepthwiseConv2D)  (None, 25, 25, 256)      2304      \n",
      "                                                                 \n",
      " conv_dw_5_bn (BatchNormaliz  (None, 25, 25, 256)      1024      \n",
      " ation)                                                          \n",
      "                                                                 \n",
      " conv_dw_5_relu (ReLU)       (None, 25, 25, 256)       0         \n",
      "                                                                 \n",
      " conv_pw_5 (Conv2D)          (None, 25, 25, 256)       65536     \n",
      "                                                                 \n",
      " conv_pw_5_bn (BatchNormaliz  (None, 25, 25, 256)      1024      \n",
      " ation)                                                          \n",
      "                                                                 \n",
      " conv_pw_5_relu (ReLU)       (None, 25, 25, 256)       0         \n",
      "                                                                 \n",
      " conv_pad_6 (ZeroPadding2D)  (None, 26, 26, 256)       0         \n",
      "                                                                 \n",
      " conv_dw_6 (DepthwiseConv2D)  (None, 12, 12, 256)      2304      \n",
      "                                                                 \n",
      " conv_dw_6_bn (BatchNormaliz  (None, 12, 12, 256)      1024      \n",
      " ation)                                                          \n",
      "                                                                 \n",
      " conv_dw_6_relu (ReLU)       (None, 12, 12, 256)       0         \n",
      "                                                                 \n",
      " conv_pw_6 (Conv2D)          (None, 12, 12, 512)       131072    \n",
      "                                                                 \n",
      " conv_pw_6_bn (BatchNormaliz  (None, 12, 12, 512)      2048      \n",
      " ation)                                                          \n",
      "                                                                 \n",
      " conv_pw_6_relu (ReLU)       (None, 12, 12, 512)       0         \n",
      "                                                                 \n",
      " conv_dw_7 (DepthwiseConv2D)  (None, 12, 12, 512)      4608      \n",
      "                                                                 \n",
      " conv_dw_7_bn (BatchNormaliz  (None, 12, 12, 512)      2048      \n",
      " ation)                                                          \n",
      "                                                                 \n",
      " conv_dw_7_relu (ReLU)       (None, 12, 12, 512)       0         \n",
      "                                                                 \n",
      " conv_pw_7 (Conv2D)          (None, 12, 12, 512)       262144    \n",
      "                                                                 \n",
      " conv_pw_7_bn (BatchNormaliz  (None, 12, 12, 512)      2048      \n",
      " ation)                                                          \n",
      "                                                                 \n",
      " conv_pw_7_relu (ReLU)       (None, 12, 12, 512)       0         \n",
      "                                                                 \n",
      " conv_dw_8 (DepthwiseConv2D)  (None, 12, 12, 512)      4608      \n",
      "                                                                 \n",
      " conv_dw_8_bn (BatchNormaliz  (None, 12, 12, 512)      2048      \n",
      " ation)                                                          \n",
      "                                                                 \n",
      " conv_dw_8_relu (ReLU)       (None, 12, 12, 512)       0         \n",
      "                                                                 \n",
      " conv_pw_8 (Conv2D)          (None, 12, 12, 512)       262144    \n",
      "                                                                 \n",
      " conv_pw_8_bn (BatchNormaliz  (None, 12, 12, 512)      2048      \n",
      " ation)                                                          \n",
      "                                                                 \n",
      " conv_pw_8_relu (ReLU)       (None, 12, 12, 512)       0         \n",
      "                                                                 \n",
      " conv_dw_9 (DepthwiseConv2D)  (None, 12, 12, 512)      4608      \n",
      "                                                                 \n",
      " conv_dw_9_bn (BatchNormaliz  (None, 12, 12, 512)      2048      \n",
      " ation)                                                          \n",
      "                                                                 \n",
      " conv_dw_9_relu (ReLU)       (None, 12, 12, 512)       0         \n",
      "                                                                 \n",
      " conv_pw_9 (Conv2D)          (None, 12, 12, 512)       262144    \n",
      "                                                                 \n",
      " conv_pw_9_bn (BatchNormaliz  (None, 12, 12, 512)      2048      \n",
      " ation)                                                          \n",
      "                                                                 \n",
      " conv_pw_9_relu (ReLU)       (None, 12, 12, 512)       0         \n",
      "                                                                 \n",
      " conv_dw_10 (DepthwiseConv2D  (None, 12, 12, 512)      4608      \n",
      " )                                                               \n",
      "                                                                 \n",
      " conv_dw_10_bn (BatchNormali  (None, 12, 12, 512)      2048      \n",
      " zation)                                                         \n",
      "                                                                 \n",
      " conv_dw_10_relu (ReLU)      (None, 12, 12, 512)       0         \n",
      "                                                                 \n",
      " conv_pw_10 (Conv2D)         (None, 12, 12, 512)       262144    \n",
      "                                                                 \n",
      " conv_pw_10_bn (BatchNormali  (None, 12, 12, 512)      2048      \n",
      " zation)                                                         \n",
      "                                                                 \n",
      " conv_pw_10_relu (ReLU)      (None, 12, 12, 512)       0         \n",
      "                                                                 \n",
      " conv_dw_11 (DepthwiseConv2D  (None, 12, 12, 512)      4608      \n",
      " )                                                               \n",
      "                                                                 \n",
      " conv_dw_11_bn (BatchNormali  (None, 12, 12, 512)      2048      \n",
      " zation)                                                         \n",
      "                                                                 \n",
      " conv_dw_11_relu (ReLU)      (None, 12, 12, 512)       0         \n",
      "                                                                 \n",
      " conv_pw_11 (Conv2D)         (None, 12, 12, 512)       262144    \n",
      "                                                                 \n",
      " conv_pw_11_bn (BatchNormali  (None, 12, 12, 512)      2048      \n",
      " zation)                                                         \n",
      "                                                                 \n",
      " conv_pw_11_relu (ReLU)      (None, 12, 12, 512)       0         \n",
      "                                                                 \n",
      " conv_pad_12 (ZeroPadding2D)  (None, 13, 13, 512)      0         \n",
      "                                                                 \n",
      " conv_dw_12 (DepthwiseConv2D  (None, 6, 6, 512)        4608      \n",
      " )                                                               \n",
      "                                                                 \n",
      " conv_dw_12_bn (BatchNormali  (None, 6, 6, 512)        2048      \n",
      " zation)                                                         \n",
      "                                                                 \n",
      " conv_dw_12_relu (ReLU)      (None, 6, 6, 512)         0         \n",
      "                                                                 \n",
      " conv_pw_12 (Conv2D)         (None, 6, 6, 1024)        524288    \n",
      "                                                                 \n",
      " conv_pw_12_bn (BatchNormali  (None, 6, 6, 1024)       4096      \n",
      " zation)                                                         \n",
      "                                                                 \n",
      " conv_pw_12_relu (ReLU)      (None, 6, 6, 1024)        0         \n",
      "                                                                 \n",
      " conv_dw_13 (DepthwiseConv2D  (None, 6, 6, 1024)       9216      \n",
      " )                                                               \n",
      "                                                                 \n",
      " conv_dw_13_bn (BatchNormali  (None, 6, 6, 1024)       4096      \n",
      " zation)                                                         \n",
      "                                                                 \n",
      " conv_dw_13_relu (ReLU)      (None, 6, 6, 1024)        0         \n",
      "                                                                 \n",
      " conv_pw_13 (Conv2D)         (None, 6, 6, 1024)        1048576   \n",
      "                                                                 \n",
      " conv_pw_13_bn (BatchNormali  (None, 6, 6, 1024)       4096      \n",
      " zation)                                                         \n",
      "                                                                 \n",
      " conv_pw_13_relu (ReLU)      (None, 6, 6, 1024)        0         \n",
      "                                                                 \n",
      "=================================================================\n",
      "Total params: 3,228,864\n",
      "Trainable params: 0\n",
      "Non-trainable params: 3,228,864\n",
      "_________________________________________________________________\n"
     ]
    }
   ],
   "source": [
    "MobileNet = tf.keras.applications.mobilenet.MobileNet(\n",
    "    input_shape=(200,200, 3),\n",
    "    include_top=False,\n",
    "    weights='imagenet')\n",
    "MobileNet.trainable = False\n",
    "\n",
    "model = tf.keras.models.Sequential()\n",
    "model.add(MobileNet)\n",
    "layer_summary = [layer.summary() for layer in model.layers]\n",
    "\n",
    "\n",
    "    "
   ]
  },
  {
   "cell_type": "code",
   "execution_count": 4,
   "id": "78f71962",
   "metadata": {
    "execution": {
     "iopub.execute_input": "2023-06-10T21:48:47.473633Z",
     "iopub.status.busy": "2023-06-10T21:48:47.472924Z",
     "iopub.status.idle": "2023-06-10T21:48:47.499416Z",
     "shell.execute_reply": "2023-06-10T21:48:47.498413Z"
    },
    "papermill": {
     "duration": 0.05029,
     "end_time": "2023-06-10T21:48:47.501840",
     "exception": false,
     "start_time": "2023-06-10T21:48:47.451550",
     "status": "completed"
    },
    "tags": []
   },
   "outputs": [],
   "source": [
    "model.add(tf.keras.layers.Flatten())\n",
    "model.add(tf.keras.layers.Dense(25, activation='softmax'))"
   ]
  },
  {
   "cell_type": "code",
   "execution_count": 5,
   "id": "7731ac59",
   "metadata": {
    "execution": {
     "iopub.execute_input": "2023-06-10T21:48:47.543640Z",
     "iopub.status.busy": "2023-06-10T21:48:47.543300Z",
     "iopub.status.idle": "2023-06-10T21:48:47.563002Z",
     "shell.execute_reply": "2023-06-10T21:48:47.562048Z"
    },
    "papermill": {
     "duration": 0.043895,
     "end_time": "2023-06-10T21:48:47.565430",
     "exception": false,
     "start_time": "2023-06-10T21:48:47.521535",
     "status": "completed"
    },
    "tags": []
   },
   "outputs": [],
   "source": [
    "model.compile(\n",
    "    optimizer=tf.keras.optimizers.Adam(learning_rate=7e-5),\n",
    "    loss=\"categorical_crossentropy\",\n",
    "    metrics=['accuracy']\n",
    ")\n"
   ]
  },
  {
   "cell_type": "code",
   "execution_count": 6,
   "id": "0dc600e4",
   "metadata": {
    "execution": {
     "iopub.execute_input": "2023-06-10T21:48:47.609156Z",
     "iopub.status.busy": "2023-06-10T21:48:47.607281Z",
     "iopub.status.idle": "2023-06-10T21:48:47.652081Z",
     "shell.execute_reply": "2023-06-10T21:48:47.650163Z"
    },
    "papermill": {
     "duration": 0.076198,
     "end_time": "2023-06-10T21:48:47.662576",
     "exception": false,
     "start_time": "2023-06-10T21:48:47.586378",
     "status": "completed"
    },
    "tags": []
   },
   "outputs": [
    {
     "name": "stdout",
     "output_type": "stream",
     "text": [
      "Model: \"sequential\"\n",
      "_________________________________________________________________\n",
      " Layer (type)                Output Shape              Param #   \n",
      "=================================================================\n",
      " mobilenet_1.00_224 (Functio  (None, 6, 6, 1024)       3228864   \n",
      " nal)                                                            \n",
      "                                                                 \n",
      " flatten (Flatten)           (None, 36864)             0         \n",
      "                                                                 \n",
      " dense (Dense)               (None, 25)                921625    \n",
      "                                                                 \n",
      "=================================================================\n",
      "Total params: 4,150,489\n",
      "Trainable params: 921,625\n",
      "Non-trainable params: 3,228,864\n",
      "_________________________________________________________________\n"
     ]
    }
   ],
   "source": [
    "model.summary()"
   ]
  },
  {
   "cell_type": "code",
   "execution_count": 7,
   "id": "30ca9436",
   "metadata": {
    "execution": {
     "iopub.execute_input": "2023-06-10T21:48:47.739433Z",
     "iopub.status.busy": "2023-06-10T21:48:47.738970Z",
     "iopub.status.idle": "2023-06-10T23:43:10.483109Z",
     "shell.execute_reply": "2023-06-10T23:43:10.480815Z"
    },
    "papermill": {
     "duration": 6862.867755,
     "end_time": "2023-06-10T23:43:10.571806",
     "exception": false,
     "start_time": "2023-06-10T21:48:47.704051",
     "status": "completed"
    },
    "tags": []
   },
   "outputs": [
    {
     "name": "stdout",
     "output_type": "stream",
     "text": [
      "Epoch 1/12\n",
      "71/71 [==============================] - 688s 10s/step - loss: 1.7130 - accuracy: 0.5743 - val_loss: 0.8431 - val_accuracy: 0.7556\n",
      "Epoch 2/12\n",
      "71/71 [==============================] - 551s 8s/step - loss: 0.4880 - accuracy: 0.8573 - val_loss: 0.6721 - val_accuracy: 0.8046\n",
      "Epoch 3/12\n",
      "71/71 [==============================] - 549s 8s/step - loss: 0.2656 - accuracy: 0.9275 - val_loss: 0.6272 - val_accuracy: 0.8208\n",
      "Epoch 4/12\n",
      "71/71 [==============================] - 548s 8s/step - loss: 0.1540 - accuracy: 0.9645 - val_loss: 0.5982 - val_accuracy: 0.8310\n",
      "Epoch 5/12\n",
      "71/71 [==============================] - 550s 8s/step - loss: 0.0936 - accuracy: 0.9851 - val_loss: 0.5730 - val_accuracy: 0.8383\n",
      "Epoch 6/12\n",
      "71/71 [==============================] - 547s 8s/step - loss: 0.0605 - accuracy: 0.9937 - val_loss: 0.5702 - val_accuracy: 0.8429\n",
      "Epoch 7/12\n",
      "71/71 [==============================] - 541s 8s/step - loss: 0.0415 - accuracy: 0.9978 - val_loss: 0.5582 - val_accuracy: 0.8494\n",
      "Epoch 8/12\n",
      "71/71 [==============================] - 542s 8s/step - loss: 0.0305 - accuracy: 0.9992 - val_loss: 0.5502 - val_accuracy: 0.8514\n",
      "Epoch 9/12\n",
      "71/71 [==============================] - 542s 8s/step - loss: 0.0237 - accuracy: 0.9997 - val_loss: 0.5492 - val_accuracy: 0.8520\n",
      "Epoch 10/12\n",
      "71/71 [==============================] - 540s 8s/step - loss: 0.0190 - accuracy: 0.9998 - val_loss: 0.5421 - val_accuracy: 0.8553\n",
      "Epoch 11/12\n",
      "71/71 [==============================] - 573s 8s/step - loss: 0.0158 - accuracy: 0.9999 - val_loss: 0.5406 - val_accuracy: 0.8556\n",
      "Epoch 12/12\n",
      "71/71 [==============================] - 540s 8s/step - loss: 0.0133 - accuracy: 0.9999 - val_loss: 0.5374 - val_accuracy: 0.8567\n"
     ]
    }
   ],
   "source": [
    "epochs_len = 12\n",
    "history = model.fit(\n",
    "    train_generator,\n",
    "    epochs=epochs_len,\n",
    "    batch_size=256,\n",
    "    verbose=1,\n",
    "    validation_data=val_generator)"
   ]
  },
  {
   "cell_type": "code",
   "execution_count": 8,
   "id": "ee3da042",
   "metadata": {
    "execution": {
     "iopub.execute_input": "2023-06-10T23:43:10.757839Z",
     "iopub.status.busy": "2023-06-10T23:43:10.757459Z",
     "iopub.status.idle": "2023-06-10T23:43:11.017104Z",
     "shell.execute_reply": "2023-06-10T23:43:11.015975Z"
    },
    "papermill": {
     "duration": 0.354187,
     "end_time": "2023-06-10T23:43:11.019715",
     "exception": false,
     "start_time": "2023-06-10T23:43:10.665528",
     "status": "completed"
    },
    "tags": []
   },
   "outputs": [
    {
     "data": {
      "image/png": "[encoded data removed]",
      "text/plain": [
       "<Figure size 640x480 with 1 Axes>"
      ]
     },
     "metadata": {},
     "output_type": "display_data"
    }
   ],
   "source": [
    "train_accuracy = history.history['accuracy']\n",
    "val_accuracy = history.history['val_accuracy']\n",
    "\n",
    "epochs = range(1,history.epoch[-1]+2)\n",
    "plt.plot(epochs, train_accuracy, 'g', label='Training accuracy')\n",
    "plt.plot(epochs, val_accuracy, 'b', label='validation accuracy')\n",
    "plt.title('Training and Validation accuracy')\n",
    "plt.xlabel('Epochs')\n",
    "plt.ylabel('Accuracy')\n",
    "plt.legend()\n",
    "plt.show()"
   ]
  },
  {
   "cell_type": "code",
   "execution_count": 9,
   "id": "1a22a13f",
   "metadata": {
    "execution": {
     "iopub.execute_input": "2023-06-10T23:43:11.199526Z",
     "iopub.status.busy": "2023-06-10T23:43:11.197783Z",
     "iopub.status.idle": "2023-06-10T23:43:11.437015Z",
     "shell.execute_reply": "2023-06-10T23:43:11.435942Z"
    },
    "papermill": {
     "duration": 0.331526,
     "end_time": "2023-06-10T23:43:11.439392",
     "exception": false,
     "start_time": "2023-06-10T23:43:11.107866",
     "status": "completed"
    },
    "tags": []
   },
   "outputs": [
    {
     "data": {
      "image/png": "[encoded data removed]",
      "text/plain": [
       "<Figure size 640x480 with 1 Axes>"
      ]
     },
     "metadata": {},
     "output_type": "display_data"
    }
   ],
   "source": [
    "train_loss = history.history['loss']\n",
    "val_loss = history.history['val_loss']\n",
    "\n",
    "plt.plot(epochs, train_loss, 'g', label='Training loss')\n",
    "plt.plot(epochs, val_loss, 'b', label='validation loss')\n",
    "plt.title('Training and Validation losses')\n",
    "plt.xlabel('Epochs')\n",
    "plt.ylabel('loss')\n",
    "plt.legend()\n",
    "plt.show()"
   ]
  },
  {
   "cell_type": "code",
   "execution_count": null,
   "id": "1b4a25af",
   "metadata": {
    "papermill": {
     "duration": 0.089576,
     "end_time": "2023-06-10T23:43:11.617748",
     "exception": false,
     "start_time": "2023-06-10T23:43:11.528172",
     "status": "completed"
    },
    "tags": []
   },
   "outputs": [],
   "source": []
  }
 ],
 "metadata": {
  "kernelspec": {
   "display_name": "Python 3",
   "language": "python",
   "name": "python3"
  },
  "language_info": {
   "codemirror_mode": {
    "name": "ipython",
    "version": 3
   },
   "file_extension": ".py",
   "mimetype": "text/x-python",
   "name": "python",
   "nbconvert_exporter": "python",
   "pygments_lexer": "ipython3",
   "version": "3.7.12"
  },
  "papermill": {
   "default_parameters": {},
   "duration": 6894.560873,
   "end_time": "2023-06-10T23:43:14.712055",
   "environment_variables": {},
   "exception": null,
   "input_path": "__notebook__.ipynb",
   "output_path": "__notebook__.ipynb",
   "parameters": {},
   "start_time": "2023-06-10T21:48:20.151182",
   "version": "2.4.0"
  }
 },
 "nbformat": 4,
 "nbformat_minor": 5
}
