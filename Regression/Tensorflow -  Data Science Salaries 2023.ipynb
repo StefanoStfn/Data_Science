{
 "cells": [
  {
   "cell_type": "markdown",
   "id": "a7ab2249",
   "metadata": {},
   "source": [
    "This script tries to develop Regression model for Data Science Salaries. The used dataset is the one below:\n",
    "\n",
    "https://www.kaggle.com/datasets/arnabchaki/data-science-salaries-2023\n",
    "\n",
    "A mean absolute percentage error of 28% is reached using a Long Short Term Memory (LSTM) based neural network"
   ]
  },
  {
   "cell_type": "code",
   "execution_count": 1,
   "id": "0c8afc4c",
   "metadata": {
    "_cell_guid": "b1076dfc-b9ad-4769-8c92-a6c4dae69d19",
    "_uuid": "8f2839f25d086af736a60e9eeb907d3b93b6e0e5",
    "execution": {
     "iopub.execute_input": "2023-05-03T11:14:38.194343Z",
     "iopub.status.busy": "2023-05-03T11:14:38.193774Z",
     "iopub.status.idle": "2023-05-03T11:14:51.168850Z",
     "shell.execute_reply": "2023-05-03T11:14:51.167576Z"
    },
    "papermill": {
     "duration": 12.984541,
     "end_time": "2023-05-03T11:14:51.171834",
     "exception": false,
     "start_time": "2023-05-03T11:14:38.187293",
     "status": "completed"
    },
    "tags": []
   },
   "outputs": [
    {
     "name": "stdout",
     "output_type": "stream",
     "text": [
      "Collecting keras\r\n",
      "  Downloading keras-2.12.0-py2.py3-none-any.whl (1.7 MB)\r\n",
      "\u001b[K     |████████████████████████████████| 1.7 MB 4.2 MB/s \r\n",
      "\u001b[?25hInstalling collected packages: keras\r\n",
      "Successfully installed keras-2.12.0\r\n"
     ]
    }
   ],
   "source": [
    "import tensorflow as tf\n",
    "import numpy as np\n",
    "from tensorflow import keras\n",
    "from keras import backend as K\n",
    "!sudo pip3 install keras\n",
    "from tensorflow.keras.layers import Layer\n",
    "from tensorflow.keras import initializers\n",
    "import matplotlib.pyplot as plt\n",
    "import math\n",
    "from sklearn.utils import shuffle"
   ]
  },
  {
   "cell_type": "code",
   "execution_count": 2,
   "id": "ca295e87",
   "metadata": {
    "execution": {
     "iopub.execute_input": "2023-05-03T11:14:51.184364Z",
     "iopub.status.busy": "2023-05-03T11:14:51.182212Z",
     "iopub.status.idle": "2023-05-03T11:14:51.214382Z",
     "shell.execute_reply": "2023-05-03T11:14:51.212987Z"
    },
    "papermill": {
     "duration": 0.040271,
     "end_time": "2023-05-03T11:14:51.216792",
     "exception": false,
     "start_time": "2023-05-03T11:14:51.176521",
     "status": "completed"
    },
    "tags": []
   },
   "outputs": [
    {
     "name": "stdout",
     "output_type": "stream",
     "text": [
      "['work_year', 'experience_level', 'employment_type', 'job_title', 'employee_residence', 'remote_ratio', 'company_location', 'company_size']\n",
      "[['2023', 'SE', 'FT', 'Principal Data Scientist', 'ES', '100', 'ES', 'L'], ['2023', 'MI', 'CT', 'ML Engineer', 'US', '100', 'US', 'S'], ['2023', 'MI', 'CT', 'ML Engineer', 'US', '100', 'US', 'S']]\n",
      "['85847', '30000', '25500']\n",
      "3755\n",
      "3755\n"
     ]
    }
   ],
   "source": [
    "import csv\n",
    "ds_features = []\n",
    "labels = []\n",
    "with open('/kaggle/input/data-science-salaries-2023/ds_salaries.csv', 'r') as csvfile:\n",
    "  reader = csv.reader(csvfile, delimiter=',')\n",
    "  columns = next(reader) #skip first line\n",
    "  columns = columns[0:4] + columns[7:]\n",
    "  for row in reader:\n",
    "    ds_features.append(row[0:4] + row[7:])\n",
    "    labels.append(row[6])\n",
    "\n",
    "\n",
    "print(columns)\n",
    "print(ds_features[:3])\n",
    "print(labels[:3])\n",
    "print(len(ds_features))\n",
    "print(len(labels))"
   ]
  },
  {
   "cell_type": "code",
   "execution_count": 3,
   "id": "2fe47edc",
   "metadata": {
    "execution": {
     "iopub.execute_input": "2023-05-03T11:14:51.227817Z",
     "iopub.status.busy": "2023-05-03T11:14:51.226925Z",
     "iopub.status.idle": "2023-05-03T11:14:51.470705Z",
     "shell.execute_reply": "2023-05-03T11:14:51.469052Z"
    },
    "papermill": {
     "duration": 0.251517,
     "end_time": "2023-05-03T11:14:51.473131",
     "exception": false,
     "start_time": "2023-05-03T11:14:51.221614",
     "status": "completed"
    },
    "tags": []
   },
   "outputs": [
    {
     "name": "stdout",
     "output_type": "stream",
     "text": [
      "2023 se ft principaldatascientist es 100 es l\n",
      "2023 mi ct mlengineer us 100 us s\n"
     ]
    }
   ],
   "source": [
    "#let's treat as sentences the input data features\n",
    "new_features = []\n",
    "for item in ds_features:\n",
    "  new_features.append(item[:3] + [item[3].replace(\" \", \"\")] + item[4:])\n",
    "\n",
    "sentences = [\" \".join(item).lower() for item in new_features]\n",
    "print(sentences[0])\n",
    "print(sentences[1])\n",
    "#Now features are sentence-like structured"
   ]
  },
  {
   "cell_type": "code",
   "execution_count": 4,
   "id": "e8a4e008",
   "metadata": {
    "execution": {
     "iopub.execute_input": "2023-05-03T11:14:51.482903Z",
     "iopub.status.busy": "2023-05-03T11:14:51.482597Z",
     "iopub.status.idle": "2023-05-03T11:14:51.576761Z",
     "shell.execute_reply": "2023-05-03T11:14:51.575656Z"
    },
    "papermill": {
     "duration": 0.102093,
     "end_time": "2023-05-03T11:14:51.579524",
     "exception": false,
     "start_time": "2023-05-03T11:14:51.477431",
     "status": "completed"
    },
    "tags": []
   },
   "outputs": [],
   "source": [
    "from tensorflow.keras.preprocessing.text import Tokenizer\n",
    "num_words = 190\n",
    "tokenizer = Tokenizer(num_words=num_words, oov_token='<oov>')\n",
    "tokenizer.fit_on_texts(sentences)\n",
    "word_index = tokenizer.word_index\n",
    "sequences = tokenizer.texts_to_sequences(sentences)\n"
   ]
  },
  {
   "cell_type": "code",
   "execution_count": 5,
   "id": "8425ea4d",
   "metadata": {
    "execution": {
     "iopub.execute_input": "2023-05-03T11:14:51.589870Z",
     "iopub.status.busy": "2023-05-03T11:14:51.589518Z",
     "iopub.status.idle": "2023-05-03T11:14:51.606875Z",
     "shell.execute_reply": "2023-05-03T11:14:51.605648Z"
    },
    "papermill": {
     "duration": 0.025524,
     "end_time": "2023-05-03T11:14:51.609547",
     "exception": false,
     "start_time": "2023-05-03T11:14:51.584023",
     "status": "completed"
    },
    "tags": []
   },
   "outputs": [
    {
     "name": "stdout",
     "output_type": "stream",
     "text": [
      "3379 376\n",
      "3755 3755\n"
     ]
    }
   ],
   "source": [
    "#labels treating and splitting\n",
    "labels = [float(item)/450e3 for item in labels]\n",
    "max_value = max(labels)\n",
    "min_value = min(labels)\n",
    "#labels = np.array([item/max_value for item in labels])\n",
    "labels = np.array(labels)\n",
    "sequences = np.array(sequences, dtype='int')#.reshape(-1, 30, 1)\n",
    "\n",
    "#for index in range(0,len(sequences)):\n",
    "#    sequences[index] /= 190.0\n",
    "sequences, labels = shuffle(sequences, labels)\n",
    "split_ratio = 0.9\n",
    "x_train, y_train = sequences[:int(split_ratio*len(sequences))], labels[:int(split_ratio*len(sequences))]\n",
    "x_val, y_val = sequences[int(split_ratio*len(sequences)):], labels[int(split_ratio*len(sequences)):]\n",
    "print(len(x_train), len(x_val))\n",
    "print(len(x_train)+ len(x_val), len(labels))"
   ]
  },
  {
   "cell_type": "code",
   "execution_count": 6,
   "id": "e2198809",
   "metadata": {
    "execution": {
     "iopub.execute_input": "2023-05-03T11:14:51.620654Z",
     "iopub.status.busy": "2023-05-03T11:14:51.620313Z",
     "iopub.status.idle": "2023-05-03T11:14:51.627983Z",
     "shell.execute_reply": "2023-05-03T11:14:51.626764Z"
    },
    "papermill": {
     "duration": 0.01627,
     "end_time": "2023-05-03T11:14:51.631136",
     "exception": false,
     "start_time": "2023-05-03T11:14:51.614866",
     "status": "completed"
    },
    "tags": []
   },
   "outputs": [
    {
     "name": "stdout",
     "output_type": "stream",
     "text": [
      "[0.08584667 0.27777778 0.13115556 0.38266667 0.51111111]\n",
      "1035\n",
      "1.0\n"
     ]
    }
   ],
   "source": [
    "print(y_val[:5])\n",
    "print(len(set(labels)))\n",
    "print(max(labels))"
   ]
  },
  {
   "cell_type": "code",
   "execution_count": 7,
   "id": "f7fe7b8d",
   "metadata": {
    "execution": {
     "iopub.execute_input": "2023-05-03T11:14:51.642385Z",
     "iopub.status.busy": "2023-05-03T11:14:51.641443Z",
     "iopub.status.idle": "2023-05-03T11:14:56.228964Z",
     "shell.execute_reply": "2023-05-03T11:14:56.227776Z"
    },
    "papermill": {
     "duration": 4.59624,
     "end_time": "2023-05-03T11:14:56.232035",
     "exception": false,
     "start_time": "2023-05-03T11:14:51.635795",
     "status": "completed"
    },
    "tags": []
   },
   "outputs": [],
   "source": [
    "model = tf.keras.Sequential([ \n",
    "    tf.keras.layers.Embedding(input_dim=num_words, output_dim = 16, input_length=8),\n",
    "    tf.keras.layers.Bidirectional(tf.keras.layers.LSTM(128, return_sequences=True)),\n",
    "    tf.keras.layers.Bidirectional(tf.keras.layers.LSTM(64, return_sequences=True)),\n",
    "    tf.keras.layers.Bidirectional(tf.keras.layers.LSTM(32)),\n",
    "    tf.keras.layers.Dense(1024, activation='relu', kernel_initializer=initializers.RandomNormal(stddev=0.01)),\n",
    "    tf.keras.layers.Dense(512, activation='relu', kernel_initializer=initializers.RandomNormal(stddev=0.01)),\n",
    "    tf.keras.layers.Dense(512, activation='relu', kernel_initializer=initializers.RandomNormal(stddev=0.01)),\n",
    "    tf.keras.layers.Dense(1)])"
   ]
  },
  {
   "cell_type": "code",
   "execution_count": 8,
   "id": "d1504da7",
   "metadata": {
    "execution": {
     "iopub.execute_input": "2023-05-03T11:14:56.244126Z",
     "iopub.status.busy": "2023-05-03T11:14:56.243396Z",
     "iopub.status.idle": "2023-05-03T11:14:56.262084Z",
     "shell.execute_reply": "2023-05-03T11:14:56.260931Z"
    },
    "papermill": {
     "duration": 0.02747,
     "end_time": "2023-05-03T11:14:56.264410",
     "exception": false,
     "start_time": "2023-05-03T11:14:56.236940",
     "status": "completed"
    },
    "tags": []
   },
   "outputs": [],
   "source": [
    "#let's build the neural network\n",
    "model.compile(loss='mape',\n",
    "              optimizer=tf.keras.optimizers.Adam(learning_rate=1e-4)) \n"
   ]
  },
  {
   "cell_type": "code",
   "execution_count": 9,
   "id": "2878b8c6",
   "metadata": {
    "execution": {
     "iopub.execute_input": "2023-05-03T11:14:56.274740Z",
     "iopub.status.busy": "2023-05-03T11:14:56.274239Z",
     "iopub.status.idle": "2023-05-03T11:14:56.281160Z",
     "shell.execute_reply": "2023-05-03T11:14:56.280118Z"
    },
    "papermill": {
     "duration": 0.014728,
     "end_time": "2023-05-03T11:14:56.283524",
     "exception": false,
     "start_time": "2023-05-03T11:14:56.268796",
     "status": "completed"
    },
    "tags": []
   },
   "outputs": [],
   "source": [
    "class MyCallback(tf.keras.callbacks.Callback):\n",
    "  def on_epoch_end(self, epoch, logs={}):\n",
    "    if logs.get('loss') is not None and logs.get('loss') < 28.0 and logs.get('val_loss') < 28.0:                 \n",
    "      print(\"\\nReached wanted accuracy so cancelling training!\")\n",
    "      \n",
    "      self.model.stop_training = True\n",
    "\n",
    "callback = MyCallback()\n"
   ]
  },
  {
   "cell_type": "code",
   "execution_count": 10,
   "id": "c6786670",
   "metadata": {
    "_kg_hide-output": true,
    "execution": {
     "iopub.execute_input": "2023-05-03T11:14:56.292988Z",
     "iopub.status.busy": "2023-05-03T11:14:56.292718Z",
     "iopub.status.idle": "2023-05-03T11:16:00.037740Z",
     "shell.execute_reply": "2023-05-03T11:16:00.036305Z"
    },
    "papermill": {
     "duration": 63.753078,
     "end_time": "2023-05-03T11:16:00.040667",
     "exception": false,
     "start_time": "2023-05-03T11:14:56.287589",
     "status": "completed"
    },
    "tags": []
   },
   "outputs": [
    {
     "name": "stdout",
     "output_type": "stream",
     "text": [
      "Epoch 1/10000\n",
      "106/106 [==============================] - 24s 66ms/step - loss: 61.3653 - val_loss: 39.9638\n",
      "Epoch 2/10000\n",
      "106/106 [==============================] - 2s 17ms/step - loss: 35.1628 - val_loss: 32.4495\n",
      "Epoch 3/10000\n",
      "106/106 [==============================] - 3s 24ms/step - loss: 31.6366 - val_loss: 32.7359\n",
      "Epoch 4/10000\n",
      "106/106 [==============================] - 2s 16ms/step - loss: 30.3594 - val_loss: 29.6323\n",
      "Epoch 5/10000\n",
      "106/106 [==============================] - 2s 19ms/step - loss: 30.0984 - val_loss: 30.0322\n",
      "Epoch 6/10000\n",
      "106/106 [==============================] - 2s 15ms/step - loss: 29.3815 - val_loss: 28.9562\n",
      "Epoch 7/10000\n",
      "106/106 [==============================] - 2s 18ms/step - loss: 29.1059 - val_loss: 29.9992\n",
      "Epoch 8/10000\n",
      "106/106 [==============================] - 2s 16ms/step - loss: 28.2514 - val_loss: 28.4825\n",
      "Epoch 9/10000\n",
      "106/106 [==============================] - 2s 16ms/step - loss: 28.2789 - val_loss: 28.7398\n",
      "Epoch 10/10000\n",
      "106/106 [==============================] - 2s 16ms/step - loss: 28.2511 - val_loss: 29.3203\n",
      "Epoch 11/10000\n",
      "106/106 [==============================] - 2s 16ms/step - loss: 28.2023 - val_loss: 28.3092\n",
      "Epoch 12/10000\n",
      "106/106 [==============================] - 2s 19ms/step - loss: 27.7916 - val_loss: 28.0369\n",
      "Epoch 13/10000\n",
      "106/106 [==============================] - 2s 20ms/step - loss: 27.3810 - val_loss: 29.2178\n",
      "Epoch 14/10000\n",
      "106/106 [==============================] - 2s 16ms/step - loss: 27.6149 - val_loss: 30.9862\n",
      "Epoch 15/10000\n",
      "106/106 [==============================] - 2s 16ms/step - loss: 27.5200 - val_loss: 28.2395\n",
      "Epoch 16/10000\n",
      "106/106 [==============================] - 2s 16ms/step - loss: 27.2468 - val_loss: 28.6503\n",
      "Epoch 17/10000\n",
      "106/106 [==============================] - 2s 16ms/step - loss: 27.1548 - val_loss: 28.1370\n",
      "Epoch 18/10000\n",
      "106/106 [==============================] - 2s 16ms/step - loss: 27.0884 - val_loss: 29.6572\n",
      "Epoch 19/10000\n",
      "106/106 [==============================] - 2s 17ms/step - loss: 27.5907 - val_loss: 28.2387\n",
      "Epoch 20/10000\n",
      "106/106 [==============================] - 2s 16ms/step - loss: 27.3073 - val_loss: 28.7856\n",
      "Epoch 21/10000\n",
      "106/106 [==============================] - 2s 16ms/step - loss: 26.8496 - val_loss: 28.1975\n",
      "Epoch 22/10000\n",
      "106/106 [==============================] - 2s 16ms/step - loss: 26.8744 - val_loss: 28.4601\n",
      "Epoch 23/10000\n",
      "105/106 [============================>.] - ETA: 0s - loss: 26.9687\n",
      "Reached wanted accuracy so cancelling training!\n",
      "106/106 [==============================] - 2s 16ms/step - loss: 26.9583 - val_loss: 27.9221\n"
     ]
    }
   ],
   "source": [
    "epochs = 10000\n",
    "history = model.fit(\n",
    "    x_train, y_train, \n",
    "    epochs=epochs,\n",
    "    batch_size=32,\n",
    "    validation_data=(x_val, y_val),\n",
    "    callbacks=[callback])"
   ]
  },
  {
   "cell_type": "code",
   "execution_count": 11,
   "id": "88845f93",
   "metadata": {
    "execution": {
     "iopub.execute_input": "2023-05-03T11:16:00.137582Z",
     "iopub.status.busy": "2023-05-03T11:16:00.136345Z",
     "iopub.status.idle": "2023-05-03T11:16:28.985712Z",
     "shell.execute_reply": "2023-05-03T11:16:28.984563Z"
    },
    "papermill": {
     "duration": 28.900295,
     "end_time": "2023-05-03T11:16:28.988434",
     "exception": false,
     "start_time": "2023-05-03T11:16:00.088139",
     "status": "completed"
    },
    "tags": []
   },
   "outputs": [
    {
     "name": "stdout",
     "output_type": "stream",
     "text": [
      "118/118 [==============================] - 1s 6ms/step - loss: 26.4454\n"
     ]
    },
    {
     "data": {
      "text/plain": [
       "26.445350646972656"
      ]
     },
     "execution_count": 11,
     "metadata": {},
     "output_type": "execute_result"
    }
   ],
   "source": [
    "model.evaluate(sequences, labels, verbose=1)"
   ]
  },
  {
   "cell_type": "code",
   "execution_count": 12,
   "id": "bae381ce",
   "metadata": {
    "execution": {
     "iopub.execute_input": "2023-05-03T11:16:29.084747Z",
     "iopub.status.busy": "2023-05-03T11:16:29.083582Z",
     "iopub.status.idle": "2023-05-03T11:16:29.375374Z",
     "shell.execute_reply": "2023-05-03T11:16:29.374128Z"
    },
    "papermill": {
     "duration": 0.34276,
     "end_time": "2023-05-03T11:16:29.378016",
     "exception": false,
     "start_time": "2023-05-03T11:16:29.035256",
     "status": "completed"
    },
    "tags": []
   },
   "outputs": [
    {
     "data": {
      "image/png": "[encoded data removed]",
      "text/plain": [
       "<Figure size 640x480 with 1 Axes>"
      ]
     },
     "metadata": {},
     "output_type": "display_data"
    }
   ],
   "source": [
    "epoch_range = np.arange(1, history.epoch[-1]+2)\n",
    "train_loss = history.history['loss']\n",
    "val_loss = history.history['val_loss']\n",
    "\n",
    "plt.plot(epoch_range, train_loss, 'g', label='Training loss')\n",
    "plt.plot(epoch_range, val_loss, 'b', label='validation loss')\n",
    "plt.title('Training and Validation losses')\n",
    "plt.xlabel('Epochs')\n",
    "plt.ylabel('loss')\n",
    "plt.legend()\n",
    "plt.show()"
   ]
  },
  {
   "cell_type": "code",
   "execution_count": null,
   "id": "e2b7c215",
   "metadata": {
    "papermill": {
     "duration": 0.045442,
     "end_time": "2023-05-03T11:16:29.469982",
     "exception": false,
     "start_time": "2023-05-03T11:16:29.424540",
     "status": "completed"
    },
    "tags": []
   },
   "outputs": [],
   "source": []
  }
 ],
 "metadata": {
  "kernelspec": {
   "display_name": "Python 3",
   "language": "python",
   "name": "python3"
  },
  "language_info": {
   "codemirror_mode": {
    "name": "ipython",
    "version": 3
   },
   "file_extension": ".py",
   "mimetype": "text/x-python",
   "name": "python",
   "nbconvert_exporter": "python",
   "pygments_lexer": "ipython3",
   "version": "3.7.12"
  },
  "papermill": {
   "default_parameters": {},
   "duration": 126.068794,
   "end_time": "2023-05-03T11:16:33.562235",
   "environment_variables": {},
   "exception": null,
   "input_path": "__notebook__.ipynb",
   "output_path": "__notebook__.ipynb",
   "parameters": {},
   "start_time": "2023-05-03T11:14:27.493441",
   "version": "2.4.0"
  }
 },
 "nbformat": 4,
 "nbformat_minor": 5
}
